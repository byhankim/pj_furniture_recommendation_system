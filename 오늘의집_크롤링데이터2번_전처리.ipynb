{
 "cells": [
  {
   "cell_type": "markdown",
   "id": "municipal-hughes",
   "metadata": {},
   "source": [
    "# 오늘의 집 크롤링데이터 전처리\n",
    "- 숫자데이터 처리\n",
    "- 4요소(내구성, 가격, 배송, 디자인) 숫자처리\n",
    "- 기타 전처리 진행"
   ]
  },
  {
   "cell_type": "code",
   "execution_count": 1,
   "id": "thirty-leave",
   "metadata": {},
   "outputs": [],
   "source": [
    "# 파일시스템 관련\n",
    "import os\n",
    "\n",
    "# 데이터 처리 관련\n",
    "import numpy as np\n",
    "import pandas as pd\n",
    "\n",
    "# 텍스트 전처리 관련\n",
    "import re\n",
    "import string\n",
    "# from konlpy.tag import Kkma\n",
    "# stopwords도 알아서 구해볼것\n",
    "\n",
    "# 데이터시각화 관련\n",
    "import matplotlib.pyplot as plt\n",
    "%matplotlib inline\n",
    "\n",
    "# sklearn\n",
    "# from sklearn import model_selection\n",
    "# from sklearn.feature_extraction.text import CountVectorizer"
   ]
  },
  {
   "cell_type": "code",
   "execution_count": 2,
   "id": "listed-target",
   "metadata": {},
   "outputs": [
    {
     "data": {
      "text/html": [
       "<div>\n",
       "<style scoped>\n",
       "    .dataframe tbody tr th:only-of-type {\n",
       "        vertical-align: middle;\n",
       "    }\n",
       "\n",
       "    .dataframe tbody tr th {\n",
       "        vertical-align: top;\n",
       "    }\n",
       "\n",
       "    .dataframe thead th {\n",
       "        text-align: right;\n",
       "    }\n",
       "</style>\n",
       "<table border=\"1\" class=\"dataframe\">\n",
       "  <thead>\n",
       "    <tr style=\"text-align: right;\">\n",
       "      <th></th>\n",
       "      <th>Unnamed: 0</th>\n",
       "      <th>상품명</th>\n",
       "      <th>가격</th>\n",
       "      <th>총점</th>\n",
       "      <th>리뷰수</th>\n",
       "      <th>날짜</th>\n",
       "      <th>아이디</th>\n",
       "      <th>별점</th>\n",
       "      <th>내구성</th>\n",
       "      <th>가격.1</th>\n",
       "      <th>디자인</th>\n",
       "      <th>배송</th>\n",
       "      <th>좋아요</th>\n",
       "      <th>내용</th>\n",
       "    </tr>\n",
       "  </thead>\n",
       "  <tbody>\n",
       "    <tr>\n",
       "      <th>0</th>\n",
       "      <td>0</td>\n",
       "      <td>푸코 스텐레스 칼블럭 칼꽂이 멀티홀더</td>\n",
       "      <td>24,900원</td>\n",
       "      <td>5.0</td>\n",
       "      <td>1</td>\n",
       "      <td>2021.01.06 ∙ 오늘의집 구매</td>\n",
       "      <td>와플17</td>\n",
       "      <td>별점 5.0점</td>\n",
       "      <td>별점 5.0점</td>\n",
       "      <td>별점 5.0점</td>\n",
       "      <td>별점 5.0점</td>\n",
       "      <td>별점 5.0점</td>\n",
       "      <td>none</td>\n",
       "      <td>칼꽃이 여러개 꽂을수 있고 뒤에 도마까지 수납되고 조리용품도 한꺼번에 수납되어서 쓰...</td>\n",
       "    </tr>\n",
       "  </tbody>\n",
       "</table>\n",
       "</div>"
      ],
      "text/plain": [
       "   Unnamed: 0                   상품명       가격   총점 리뷰수                    날짜  \\\n",
       "0           0  푸코 스텐레스 칼블럭 칼꽂이 멀티홀더  24,900원  5.0   1  2021.01.06 ∙ 오늘의집 구매   \n",
       "\n",
       "    아이디       별점      내구성     가격.1      디자인       배송   좋아요  \\\n",
       "0  와플17  별점 5.0점  별점 5.0점  별점 5.0점  별점 5.0점  별점 5.0점  none   \n",
       "\n",
       "                                                  내용  \n",
       "0  칼꽃이 여러개 꽂을수 있고 뒤에 도마까지 수납되고 조리용품도 한꺼번에 수납되어서 쓰...  "
      ]
     },
     "execution_count": 2,
     "metadata": {},
     "output_type": "execute_result"
    }
   ],
   "source": [
    "df_raw = pd.read_excel(\"오늘의 집_크롤링 완성_2.xlsx\")\n",
    "df_raw.head(1)"
   ]
  },
  {
   "cell_type": "code",
   "execution_count": 3,
   "id": "oriental-facility",
   "metadata": {},
   "outputs": [
    {
     "data": {
      "text/html": [
       "<div>\n",
       "<style scoped>\n",
       "    .dataframe tbody tr th:only-of-type {\n",
       "        vertical-align: middle;\n",
       "    }\n",
       "\n",
       "    .dataframe tbody tr th {\n",
       "        vertical-align: top;\n",
       "    }\n",
       "\n",
       "    .dataframe thead th {\n",
       "        text-align: right;\n",
       "    }\n",
       "</style>\n",
       "<table border=\"1\" class=\"dataframe\">\n",
       "  <thead>\n",
       "    <tr style=\"text-align: right;\">\n",
       "      <th></th>\n",
       "      <th>상품명</th>\n",
       "      <th>가격</th>\n",
       "      <th>총점</th>\n",
       "      <th>리뷰수</th>\n",
       "      <th>날짜</th>\n",
       "      <th>아이디</th>\n",
       "      <th>별점</th>\n",
       "      <th>내구성</th>\n",
       "      <th>가격.1</th>\n",
       "      <th>디자인</th>\n",
       "      <th>배송</th>\n",
       "      <th>좋아요</th>\n",
       "      <th>내용</th>\n",
       "    </tr>\n",
       "  </thead>\n",
       "  <tbody>\n",
       "    <tr>\n",
       "      <th>0</th>\n",
       "      <td>푸코 스텐레스 칼블럭 칼꽂이 멀티홀더</td>\n",
       "      <td>24,900원</td>\n",
       "      <td>5.0</td>\n",
       "      <td>1</td>\n",
       "      <td>2021.01.06 ∙ 오늘의집 구매</td>\n",
       "      <td>와플17</td>\n",
       "      <td>별점 5.0점</td>\n",
       "      <td>별점 5.0점</td>\n",
       "      <td>별점 5.0점</td>\n",
       "      <td>별점 5.0점</td>\n",
       "      <td>별점 5.0점</td>\n",
       "      <td>none</td>\n",
       "      <td>칼꽃이 여러개 꽂을수 있고 뒤에 도마까지 수납되고 조리용품도 한꺼번에 수납되어서 쓰...</td>\n",
       "    </tr>\n",
       "  </tbody>\n",
       "</table>\n",
       "</div>"
      ],
      "text/plain": [
       "                    상품명       가격   총점 리뷰수                    날짜   아이디  \\\n",
       "0  푸코 스텐레스 칼블럭 칼꽂이 멀티홀더  24,900원  5.0   1  2021.01.06 ∙ 오늘의집 구매  와플17   \n",
       "\n",
       "        별점      내구성     가격.1      디자인       배송   좋아요  \\\n",
       "0  별점 5.0점  별점 5.0점  별점 5.0점  별점 5.0점  별점 5.0점  none   \n",
       "\n",
       "                                                  내용  \n",
       "0  칼꽃이 여러개 꽂을수 있고 뒤에 도마까지 수납되고 조리용품도 한꺼번에 수납되어서 쓰...  "
      ]
     },
     "execution_count": 3,
     "metadata": {},
     "output_type": "execute_result"
    }
   ],
   "source": [
    "df = df_raw[['상품명','가격','총점','리뷰수','날짜','아이디','별점','내구성','가격.1','디자인','배송','좋아요','내용']]\n",
    "df.head(1)"
   ]
  },
  {
   "cell_type": "code",
   "execution_count": 4,
   "id": "solar-quantum",
   "metadata": {},
   "outputs": [
    {
     "data": {
      "text/plain": [
       "(139385, 13)"
      ]
     },
     "execution_count": 4,
     "metadata": {},
     "output_type": "execute_result"
    }
   ],
   "source": [
    "df.shape"
   ]
  },
  {
   "cell_type": "code",
   "execution_count": 5,
   "id": "capital-style",
   "metadata": {},
   "outputs": [
    {
     "data": {
      "text/plain": [
       "(139276, 13)"
      ]
     },
     "execution_count": 5,
     "metadata": {},
     "output_type": "execute_result"
    }
   ],
   "source": [
    "# dropna, drop_duplicaates()\n",
    "# df = df.dropna()\n",
    "df = df.drop_duplicates()\n",
    "df.shape"
   ]
  },
  {
   "cell_type": "code",
   "execution_count": 6,
   "id": "spread-elimination",
   "metadata": {},
   "outputs": [
    {
     "data": {
      "text/plain": [
       "0         5.0\n",
       "3         5.0\n",
       "6         5.0\n",
       "9         5.0\n",
       "10        5.0\n",
       "         ... \n",
       "139380    3.0\n",
       "139381    5.0\n",
       "139382    5.0\n",
       "139383    4.0\n",
       "139384    2.0\n",
       "Name: 디자인, Length: 134506, dtype: float64"
      ]
     },
     "execution_count": 6,
     "metadata": {},
     "output_type": "execute_result"
    }
   ],
   "source": [
    "# 숫자 전처리\n",
    "df['별점']=df['별점'].apply(lambda x: float(x[-4:-1]))\n",
    "\n",
    "df['내구성']=df['내구성'].apply(lambda x: float(x[-4:-1]) if x != \"none\" else 10000.1)\n",
    "\n",
    "df['가격.1']=df['가격.1'].apply(lambda x:float(x[-4:-1]) if x != \"none\" else 10000.1)\n",
    "\n",
    "df['디자인']=df['디자인'].apply(lambda x: float(x[-4:-1]) if x != \"none\" else 10000.1)\n",
    "\n",
    "df['배송']=df['배송'].apply(lambda x: float(x[-4:-1]) if x != \"none\" else 10000.1)\n",
    "\n",
    "# 상세평점 작성하지 않은 row는 버리기\n",
    "df = df[df['내구성'] < 6]\n",
    "\n",
    "\n",
    "df['디자인']"
   ]
  },
  {
   "cell_type": "code",
   "execution_count": 7,
   "id": "polar-mapping",
   "metadata": {},
   "outputs": [
    {
     "name": "stdout",
     "output_type": "stream",
     "text": [
      "(134506, 13)\n"
     ]
    },
    {
     "data": {
      "text/html": [
       "<div>\n",
       "<style scoped>\n",
       "    .dataframe tbody tr th:only-of-type {\n",
       "        vertical-align: middle;\n",
       "    }\n",
       "\n",
       "    .dataframe tbody tr th {\n",
       "        vertical-align: top;\n",
       "    }\n",
       "\n",
       "    .dataframe thead th {\n",
       "        text-align: right;\n",
       "    }\n",
       "</style>\n",
       "<table border=\"1\" class=\"dataframe\">\n",
       "  <thead>\n",
       "    <tr style=\"text-align: right;\">\n",
       "      <th></th>\n",
       "      <th>상품명</th>\n",
       "      <th>가격</th>\n",
       "      <th>총점</th>\n",
       "      <th>리뷰수</th>\n",
       "      <th>날짜</th>\n",
       "      <th>아이디</th>\n",
       "      <th>별점</th>\n",
       "      <th>내구성</th>\n",
       "      <th>가격.1</th>\n",
       "      <th>디자인</th>\n",
       "      <th>배송</th>\n",
       "      <th>좋아요</th>\n",
       "      <th>내용</th>\n",
       "    </tr>\n",
       "  </thead>\n",
       "  <tbody>\n",
       "    <tr>\n",
       "      <th>0</th>\n",
       "      <td>푸코 스텐레스 칼블럭 칼꽂이 멀티홀더</td>\n",
       "      <td>24,900원</td>\n",
       "      <td>5.0</td>\n",
       "      <td>1</td>\n",
       "      <td>2021.01.06 ∙ 오늘의집 구매</td>\n",
       "      <td>와플17</td>\n",
       "      <td>5.0</td>\n",
       "      <td>5.0</td>\n",
       "      <td>5.0</td>\n",
       "      <td>5.0</td>\n",
       "      <td>5.0</td>\n",
       "      <td>none</td>\n",
       "      <td>칼꽃이 여러개 꽂을수 있고 뒤에 도마까지 수납되고 조리용품도 한꺼번에 수납되어서 쓰...</td>\n",
       "    </tr>\n",
       "    <tr>\n",
       "      <th>3</th>\n",
       "      <td>ROTERA 미니 양초 랜턴 4colors</td>\n",
       "      <td>6,100원</td>\n",
       "      <td>4.7</td>\n",
       "      <td>350</td>\n",
       "      <td>2019.09.18 ∙ 오늘의집 구매</td>\n",
       "      <td>나은9592</td>\n",
       "      <td>5.0</td>\n",
       "      <td>5.0</td>\n",
       "      <td>5.0</td>\n",
       "      <td>5.0</td>\n",
       "      <td>5.0</td>\n",
       "      <td>1</td>\n",
       "      <td>저렴한 가격에 예쁜 인테리어 소품입니당 초 오래 태우고 위에 만지면 뜨거워요 조심조심</td>\n",
       "    </tr>\n",
       "  </tbody>\n",
       "</table>\n",
       "</div>"
      ],
      "text/plain": [
       "                       상품명       가격   총점  리뷰수                    날짜     아이디  \\\n",
       "0     푸코 스텐레스 칼블럭 칼꽂이 멀티홀더  24,900원  5.0    1  2021.01.06 ∙ 오늘의집 구매    와플17   \n",
       "3  ROTERA 미니 양초 랜턴 4colors   6,100원  4.7  350  2019.09.18 ∙ 오늘의집 구매  나은9592   \n",
       "\n",
       "    별점  내구성  가격.1  디자인   배송   좋아요  \\\n",
       "0  5.0  5.0   5.0  5.0  5.0  none   \n",
       "3  5.0  5.0   5.0  5.0  5.0     1   \n",
       "\n",
       "                                                  내용  \n",
       "0  칼꽃이 여러개 꽂을수 있고 뒤에 도마까지 수납되고 조리용품도 한꺼번에 수납되어서 쓰...  \n",
       "3    저렴한 가격에 예쁜 인테리어 소품입니당 초 오래 태우고 위에 만지면 뜨거워요 조심조심  "
      ]
     },
     "execution_count": 7,
     "metadata": {},
     "output_type": "execute_result"
    }
   ],
   "source": [
    "print(df.shape)\n",
    "df.head(2)"
   ]
  },
  {
   "cell_type": "code",
   "execution_count": 8,
   "id": "harmful-order",
   "metadata": {},
   "outputs": [
    {
     "data": {
      "text/plain": [
       "심플 디켄더 유리화병 꽃병                       500\n",
       "원목 화분 받침대_3size                      500\n",
       "코시나 라탄 커트러리 cocina rattan cutlery    500\n",
       "헤링본 발탄 러그 카페트 4colors 4size          500\n",
       "순수원목 수납 선반형 사다리행거                    500\n",
       "                                    ... \n",
       "전자레인지 MS23K3523AK 블랙 쾌속해동 23L          1\n",
       "350 자작나무 원형거울                          1\n",
       "블랙 엔틱벨 저소음 탁상시계 2size 자명종 알람시계         1\n",
       "아로스 단스탠드_4colors                       1\n",
       "사과박스                                   1\n",
       "Name: 상품명, Length: 901, dtype: int64"
      ]
     },
     "execution_count": 8,
     "metadata": {},
     "output_type": "execute_result"
    }
   ],
   "source": [
    "df.상품명.value_counts()"
   ]
  },
  {
   "cell_type": "code",
   "execution_count": 9,
   "id": "advisory-voluntary",
   "metadata": {},
   "outputs": [
    {
     "data": {
      "text/html": [
       "<div>\n",
       "<style scoped>\n",
       "    .dataframe tbody tr th:only-of-type {\n",
       "        vertical-align: middle;\n",
       "    }\n",
       "\n",
       "    .dataframe tbody tr th {\n",
       "        vertical-align: top;\n",
       "    }\n",
       "\n",
       "    .dataframe thead th {\n",
       "        text-align: right;\n",
       "    }\n",
       "</style>\n",
       "<table border=\"1\" class=\"dataframe\">\n",
       "  <thead>\n",
       "    <tr style=\"text-align: right;\">\n",
       "      <th></th>\n",
       "      <th>상품명</th>\n",
       "      <th>리뷰수</th>\n",
       "    </tr>\n",
       "  </thead>\n",
       "  <tbody>\n",
       "    <tr>\n",
       "      <th>0</th>\n",
       "      <td>심플 디켄더 유리화병 꽃병</td>\n",
       "      <td>500</td>\n",
       "    </tr>\n",
       "    <tr>\n",
       "      <th>1</th>\n",
       "      <td>원목 화분 받침대_3size</td>\n",
       "      <td>500</td>\n",
       "    </tr>\n",
       "    <tr>\n",
       "      <th>2</th>\n",
       "      <td>코시나 라탄 커트러리 cocina rattan cutlery</td>\n",
       "      <td>500</td>\n",
       "    </tr>\n",
       "    <tr>\n",
       "      <th>3</th>\n",
       "      <td>헤링본 발탄 러그 카페트 4colors 4size</td>\n",
       "      <td>500</td>\n",
       "    </tr>\n",
       "    <tr>\n",
       "      <th>4</th>\n",
       "      <td>순수원목 수납 선반형 사다리행거</td>\n",
       "      <td>500</td>\n",
       "    </tr>\n",
       "    <tr>\n",
       "      <th>...</th>\n",
       "      <td>...</td>\n",
       "      <td>...</td>\n",
       "    </tr>\n",
       "    <tr>\n",
       "      <th>896</th>\n",
       "      <td>전자레인지 MS23K3523AK 블랙 쾌속해동 23L</td>\n",
       "      <td>1</td>\n",
       "    </tr>\n",
       "    <tr>\n",
       "      <th>897</th>\n",
       "      <td>350 자작나무 원형거울</td>\n",
       "      <td>1</td>\n",
       "    </tr>\n",
       "    <tr>\n",
       "      <th>898</th>\n",
       "      <td>블랙 엔틱벨 저소음 탁상시계 2size 자명종 알람시계</td>\n",
       "      <td>1</td>\n",
       "    </tr>\n",
       "    <tr>\n",
       "      <th>899</th>\n",
       "      <td>아로스 단스탠드_4colors</td>\n",
       "      <td>1</td>\n",
       "    </tr>\n",
       "    <tr>\n",
       "      <th>900</th>\n",
       "      <td>사과박스</td>\n",
       "      <td>1</td>\n",
       "    </tr>\n",
       "  </tbody>\n",
       "</table>\n",
       "<p>901 rows × 2 columns</p>\n",
       "</div>"
      ],
      "text/plain": [
       "                                   상품명  리뷰수\n",
       "0                       심플 디켄더 유리화병 꽃병  500\n",
       "1                      원목 화분 받침대_3size  500\n",
       "2    코시나 라탄 커트러리 cocina rattan cutlery  500\n",
       "3          헤링본 발탄 러그 카페트 4colors 4size  500\n",
       "4                    순수원목 수납 선반형 사다리행거  500\n",
       "..                                 ...  ...\n",
       "896      전자레인지 MS23K3523AK 블랙 쾌속해동 23L    1\n",
       "897                      350 자작나무 원형거울    1\n",
       "898     블랙 엔틱벨 저소음 탁상시계 2size 자명종 알람시계    1\n",
       "899                   아로스 단스탠드_4colors    1\n",
       "900                               사과박스    1\n",
       "\n",
       "[901 rows x 2 columns]"
      ]
     },
     "execution_count": 9,
     "metadata": {},
     "output_type": "execute_result"
    }
   ],
   "source": [
    "df_pre = pd.DataFrame(df['상품명'].value_counts())\n",
    "df_pre.reset_index(level=0, inplace=True)\n",
    "df_pre.columns = ['상품명', '리뷰수']\n",
    "df_pre"
   ]
  },
  {
   "cell_type": "code",
   "execution_count": 10,
   "id": "dying-avenue",
   "metadata": {},
   "outputs": [
    {
     "name": "stdout",
     "output_type": "stream",
     "text": [
      "['심플 디켄더 유리화병 꽃병', '원목 화분 받침대_3size', '코시나 라탄 커트러리 cocina rattan cutlery', '헤링본 발탄 러그 카페트 4colors 4size', '순수원목 수납 선반형 사다리행거', '순수한 테이블보 2size', '선수 행거', '원목 원형스툴', '1+1 다운필 베개솜 2size', '네오 원목 강화유리 사이드테이블 / 침대협탁 /원목선반 /틈새수납'] 901\n"
     ]
    }
   ],
   "source": [
    "# 상품명 따로 빼기\n",
    "pnames = df_pre['상품명'].tolist()\n",
    "print(pnames[:10], len(pnames))"
   ]
  },
  {
   "cell_type": "code",
   "execution_count": 11,
   "id": "seeing-supervision",
   "metadata": {},
   "outputs": [
    {
     "data": {
      "text/html": [
       "<div>\n",
       "<style scoped>\n",
       "    .dataframe tbody tr th:only-of-type {\n",
       "        vertical-align: middle;\n",
       "    }\n",
       "\n",
       "    .dataframe tbody tr th {\n",
       "        vertical-align: top;\n",
       "    }\n",
       "\n",
       "    .dataframe thead th {\n",
       "        text-align: right;\n",
       "    }\n",
       "</style>\n",
       "<table border=\"1\" class=\"dataframe\">\n",
       "  <thead>\n",
       "    <tr style=\"text-align: right;\">\n",
       "      <th></th>\n",
       "      <th>상품명</th>\n",
       "      <th>리뷰수</th>\n",
       "    </tr>\n",
       "  </thead>\n",
       "  <tbody>\n",
       "    <tr>\n",
       "      <th>7</th>\n",
       "      <td>원목 원형스툴</td>\n",
       "      <td>500</td>\n",
       "    </tr>\n",
       "  </tbody>\n",
       "</table>\n",
       "</div>"
      ],
      "text/plain": [
       "       상품명  리뷰수\n",
       "7  원목 원형스툴  500"
      ]
     },
     "execution_count": 11,
     "metadata": {},
     "output_type": "execute_result"
    }
   ],
   "source": [
    "df_pre.loc[df_pre.상품명 == '원목 원형스툴']"
   ]
  },
  {
   "cell_type": "code",
   "execution_count": 12,
   "id": "specialized-posting",
   "metadata": {},
   "outputs": [
    {
     "data": {
      "text/html": [
       "<div>\n",
       "<style scoped>\n",
       "    .dataframe tbody tr th:only-of-type {\n",
       "        vertical-align: middle;\n",
       "    }\n",
       "\n",
       "    .dataframe tbody tr th {\n",
       "        vertical-align: top;\n",
       "    }\n",
       "\n",
       "    .dataframe thead th {\n",
       "        text-align: right;\n",
       "    }\n",
       "</style>\n",
       "<table border=\"1\" class=\"dataframe\">\n",
       "  <thead>\n",
       "    <tr style=\"text-align: right;\">\n",
       "      <th></th>\n",
       "      <th>상품명</th>\n",
       "      <th>리뷰수</th>\n",
       "      <th>내구성</th>\n",
       "      <th>가격.1</th>\n",
       "      <th>디자인</th>\n",
       "      <th>배송</th>\n",
       "    </tr>\n",
       "  </thead>\n",
       "  <tbody>\n",
       "    <tr>\n",
       "      <th>0</th>\n",
       "      <td>심플 디켄더 유리화병 꽃병</td>\n",
       "      <td>500</td>\n",
       "      <td>4.8</td>\n",
       "      <td>4.9</td>\n",
       "      <td>4.9</td>\n",
       "      <td>4.9</td>\n",
       "    </tr>\n",
       "    <tr>\n",
       "      <th>1</th>\n",
       "      <td>원목 화분 받침대_3size</td>\n",
       "      <td>500</td>\n",
       "      <td>4.6</td>\n",
       "      <td>4.4</td>\n",
       "      <td>4.5</td>\n",
       "      <td>4.7</td>\n",
       "    </tr>\n",
       "    <tr>\n",
       "      <th>2</th>\n",
       "      <td>코시나 라탄 커트러리 cocina rattan cutlery</td>\n",
       "      <td>500</td>\n",
       "      <td>4.3</td>\n",
       "      <td>4.7</td>\n",
       "      <td>4.8</td>\n",
       "      <td>4.7</td>\n",
       "    </tr>\n",
       "    <tr>\n",
       "      <th>3</th>\n",
       "      <td>헤링본 발탄 러그 카페트 4colors 4size</td>\n",
       "      <td>500</td>\n",
       "      <td>5.0</td>\n",
       "      <td>5.0</td>\n",
       "      <td>5.0</td>\n",
       "      <td>5.0</td>\n",
       "    </tr>\n",
       "    <tr>\n",
       "      <th>4</th>\n",
       "      <td>순수원목 수납 선반형 사다리행거</td>\n",
       "      <td>500</td>\n",
       "      <td>5.0</td>\n",
       "      <td>4.6</td>\n",
       "      <td>5.0</td>\n",
       "      <td>5.0</td>\n",
       "    </tr>\n",
       "    <tr>\n",
       "      <th>5</th>\n",
       "      <td>순수한 테이블보 2size</td>\n",
       "      <td>500</td>\n",
       "      <td>5.0</td>\n",
       "      <td>5.0</td>\n",
       "      <td>5.0</td>\n",
       "      <td>5.0</td>\n",
       "    </tr>\n",
       "    <tr>\n",
       "      <th>6</th>\n",
       "      <td>선수 행거</td>\n",
       "      <td>500</td>\n",
       "      <td>4.9</td>\n",
       "      <td>4.7</td>\n",
       "      <td>4.9</td>\n",
       "      <td>4.9</td>\n",
       "    </tr>\n",
       "    <tr>\n",
       "      <th>7</th>\n",
       "      <td>원목 원형스툴</td>\n",
       "      <td>500</td>\n",
       "      <td>5.0</td>\n",
       "      <td>5.0</td>\n",
       "      <td>5.0</td>\n",
       "      <td>5.0</td>\n",
       "    </tr>\n",
       "    <tr>\n",
       "      <th>8</th>\n",
       "      <td>1+1 다운필 베개솜 2size</td>\n",
       "      <td>499</td>\n",
       "      <td>4.7</td>\n",
       "      <td>4.7</td>\n",
       "      <td>4.7</td>\n",
       "      <td>4.7</td>\n",
       "    </tr>\n",
       "    <tr>\n",
       "      <th>9</th>\n",
       "      <td>네오 원목 강화유리 사이드테이블 / 침대협탁 /원목선반 /틈새수납</td>\n",
       "      <td>499</td>\n",
       "      <td>5.0</td>\n",
       "      <td>5.0</td>\n",
       "      <td>5.0</td>\n",
       "      <td>5.0</td>\n",
       "    </tr>\n",
       "  </tbody>\n",
       "</table>\n",
       "</div>"
      ],
      "text/plain": [
       "                                    상품명  리뷰수  내구성  가격.1  디자인   배송\n",
       "0                        심플 디켄더 유리화병 꽃병  500  4.8   4.9  4.9  4.9\n",
       "1                       원목 화분 받침대_3size  500  4.6   4.4  4.5  4.7\n",
       "2     코시나 라탄 커트러리 cocina rattan cutlery  500  4.3   4.7  4.8  4.7\n",
       "3           헤링본 발탄 러그 카페트 4colors 4size  500  5.0   5.0  5.0  5.0\n",
       "4                     순수원목 수납 선반형 사다리행거  500  5.0   4.6  5.0  5.0\n",
       "5                        순수한 테이블보 2size  500  5.0   5.0  5.0  5.0\n",
       "6                                 선수 행거  500  4.9   4.7  4.9  4.9\n",
       "7                               원목 원형스툴  500  5.0   5.0  5.0  5.0\n",
       "8                     1+1 다운필 베개솜 2size  499  4.7   4.7  4.7  4.7\n",
       "9  네오 원목 강화유리 사이드테이블 / 침대협탁 /원목선반 /틈새수납  499  5.0   5.0  5.0  5.0"
      ]
     },
     "execution_count": 12,
     "metadata": {},
     "output_type": "execute_result"
    }
   ],
   "source": [
    "dura = []\n",
    "pricing = []\n",
    "ship = []\n",
    "design = []\n",
    "# 상품명별 내구성, 가격.1, 배송, 디자인 요소 평균내기\n",
    "\n",
    "for pname in pnames:\n",
    "    dura.append(round(df[df['상품명'] == pname]['내구성'].mean(),1))\n",
    "    pricing.append(round(df[df['상품명'] == pname]['가격.1'].mean(),1))\n",
    "    design.append(round(df[df['상품명'] == pname]['디자인'].mean(),1))\n",
    "    ship.append(round(df[df['상품명'] == pname]['배송'].mean(),1))\n",
    "    \n",
    "df_pre['내구성'] = dura\n",
    "df_pre['가격.1'] = pricing\n",
    "df_pre['디자인'] = design\n",
    "df_pre['배송'] = ship\n",
    "\n",
    "df_pre.head(10)"
   ]
  },
  {
   "cell_type": "code",
   "execution_count": 15,
   "id": "labeled-friendship",
   "metadata": {},
   "outputs": [],
   "source": [
    "df_pre.to_excel(\"오늘의집_크롤링데이터2_제품별 별점 전처리.xlsx\", index=False)"
   ]
  }
 ],
 "metadata": {
  "kernelspec": {
   "display_name": "android",
   "language": "python",
   "name": "android"
  },
  "language_info": {
   "codemirror_mode": {
    "name": "ipython",
    "version": 3
   },
   "file_extension": ".py",
   "mimetype": "text/x-python",
   "name": "python",
   "nbconvert_exporter": "python",
   "pygments_lexer": "ipython3",
   "version": "3.9.2"
  }
 },
 "nbformat": 4,
 "nbformat_minor": 5
}
