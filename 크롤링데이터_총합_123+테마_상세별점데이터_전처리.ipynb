{
 "cells": [
  {
   "cell_type": "markdown",
   "id": "portuguese-nelson",
   "metadata": {},
   "source": [
    "# 오늘의 집 크롤링데이터 전처리\n",
    "- 숫자데이터 처리\n",
    "- 4요소(내구성, 가격, 배송, 디자인) 숫자처리\n",
    "- 기타 전처리 진행"
   ]
  },
  {
   "cell_type": "code",
   "execution_count": 2,
   "id": "marine-harris",
   "metadata": {},
   "outputs": [],
   "source": [
    "# 파일시스템 관련\n",
    "import os\n",
    "\n",
    "# 데이터 처리 관련\n",
    "import numpy as np\n",
    "import pandas as pd\n",
    "\n",
    "# 텍스트 전처리 관련\n",
    "import re\n",
    "import string\n",
    "# from konlpy.tag import Kkma\n",
    "# stopwords도 알아서 구해볼것\n",
    "\n",
    "# 데이터시각화 관련\n",
    "import matplotlib.pyplot as plt\n",
    "%matplotlib inline\n",
    "\n",
    "# sklearn\n",
    "# from sklearn import model_selection\n",
    "# from sklearn.feature_extraction.text import CountVectorizer"
   ]
  },
  {
   "cell_type": "code",
   "execution_count": 3,
   "id": "received-tourist",
   "metadata": {},
   "outputs": [
    {
     "data": {
      "text/plain": [
       "(236690, 14)"
      ]
     },
     "execution_count": 3,
     "metadata": {},
     "output_type": "execute_result"
    }
   ],
   "source": [
    "df_1 = pd.read_excel(\"오늘의 집_최종_4300개 중 1900개.xlsx\")\n",
    "df_1.shape"
   ]
  },
  {
   "cell_type": "code",
   "execution_count": 31,
   "id": "younger-compensation",
   "metadata": {},
   "outputs": [
    {
     "data": {
      "text/plain": [
       "1680"
      ]
     },
     "execution_count": 31,
     "metadata": {},
     "output_type": "execute_result"
    }
   ],
   "source": [
    "df_1.상품명.nunique()"
   ]
  },
  {
   "cell_type": "code",
   "execution_count": 32,
   "id": "graphic-europe",
   "metadata": {},
   "outputs": [
    {
     "data": {
      "text/plain": [
       "964"
      ]
     },
     "execution_count": 32,
     "metadata": {},
     "output_type": "execute_result"
    }
   ],
   "source": [
    "df_2.상품명.nunique()"
   ]
  },
  {
   "cell_type": "code",
   "execution_count": 33,
   "id": "similar-athens",
   "metadata": {},
   "outputs": [
    {
     "data": {
      "text/plain": [
       "906"
      ]
     },
     "execution_count": 33,
     "metadata": {},
     "output_type": "execute_result"
    }
   ],
   "source": [
    "df_3.상품명.nunique()"
   ]
  },
  {
   "cell_type": "code",
   "execution_count": 5,
   "id": "floral-restriction",
   "metadata": {},
   "outputs": [
    {
     "data": {
      "text/html": [
       "<div>\n",
       "<style scoped>\n",
       "    .dataframe tbody tr th:only-of-type {\n",
       "        vertical-align: middle;\n",
       "    }\n",
       "\n",
       "    .dataframe tbody tr th {\n",
       "        vertical-align: top;\n",
       "    }\n",
       "\n",
       "    .dataframe thead th {\n",
       "        text-align: right;\n",
       "    }\n",
       "</style>\n",
       "<table border=\"1\" class=\"dataframe\">\n",
       "  <thead>\n",
       "    <tr style=\"text-align: right;\">\n",
       "      <th></th>\n",
       "      <th>Unnamed: 0</th>\n",
       "      <th>상품명</th>\n",
       "      <th>가격</th>\n",
       "      <th>총점</th>\n",
       "      <th>리뷰수</th>\n",
       "      <th>날짜</th>\n",
       "      <th>아이디</th>\n",
       "      <th>별점</th>\n",
       "      <th>내구성</th>\n",
       "      <th>가격.1</th>\n",
       "      <th>디자인</th>\n",
       "      <th>배송</th>\n",
       "      <th>좋아요</th>\n",
       "      <th>내용</th>\n",
       "    </tr>\n",
       "  </thead>\n",
       "  <tbody>\n",
       "    <tr>\n",
       "      <th>0</th>\n",
       "      <td>0</td>\n",
       "      <td>푸코 스텐레스 칼블럭 칼꽂이 멀티홀더</td>\n",
       "      <td>24,900원</td>\n",
       "      <td>5.0</td>\n",
       "      <td>1</td>\n",
       "      <td>2021.01.06 ∙ 오늘의집 구매</td>\n",
       "      <td>와플17</td>\n",
       "      <td>별점 5.0점</td>\n",
       "      <td>별점 5.0점</td>\n",
       "      <td>별점 5.0점</td>\n",
       "      <td>별점 5.0점</td>\n",
       "      <td>별점 5.0점</td>\n",
       "      <td>none</td>\n",
       "      <td>칼꽃이 여러개 꽂을수 있고 뒤에 도마까지 수납되고 조리용품도 한꺼번에 수납되어서 쓰...</td>\n",
       "    </tr>\n",
       "  </tbody>\n",
       "</table>\n",
       "</div>"
      ],
      "text/plain": [
       "   Unnamed: 0                   상품명       가격   총점 리뷰수                    날짜  \\\n",
       "0           0  푸코 스텐레스 칼블럭 칼꽂이 멀티홀더  24,900원  5.0   1  2021.01.06 ∙ 오늘의집 구매   \n",
       "\n",
       "    아이디       별점      내구성     가격.1      디자인       배송   좋아요  \\\n",
       "0  와플17  별점 5.0점  별점 5.0점  별점 5.0점  별점 5.0점  별점 5.0점  none   \n",
       "\n",
       "                                                  내용  \n",
       "0  칼꽃이 여러개 꽂을수 있고 뒤에 도마까지 수납되고 조리용품도 한꺼번에 수납되어서 쓰...  "
      ]
     },
     "execution_count": 5,
     "metadata": {},
     "output_type": "execute_result"
    }
   ],
   "source": [
    "df_2 = pd.read_excel(\"오늘의 집_크롤링 완성_2.xlsx\")\n",
    "df_2.head(1)"
   ]
  },
  {
   "cell_type": "code",
   "execution_count": 4,
   "id": "solved-memorial",
   "metadata": {},
   "outputs": [
    {
     "data": {
      "text/plain": [
       "(126017, 14)"
      ]
     },
     "execution_count": 4,
     "metadata": {},
     "output_type": "execute_result"
    }
   ],
   "source": [
    "df_3 = pd.read_excel(\"오늘의 집_크롤링 완성_3.xlsx\")\n",
    "df_3.shape"
   ]
  },
  {
   "cell_type": "code",
   "execution_count": 59,
   "id": "another-dream",
   "metadata": {},
   "outputs": [],
   "source": [
    "df_theme = pd.read_excel(\"오늘의 집_스타일 리뷰 전체_수정.xlsx\")"
   ]
  },
  {
   "cell_type": "code",
   "execution_count": 60,
   "id": "enclosed-accuracy",
   "metadata": {},
   "outputs": [
    {
     "data": {
      "text/plain": [
       "(508629, 14)"
      ]
     },
     "execution_count": 60,
     "metadata": {},
     "output_type": "execute_result"
    }
   ],
   "source": [
    "df_theme.shape"
   ]
  },
  {
   "cell_type": "code",
   "execution_count": 92,
   "id": "sustainable-nerve",
   "metadata": {},
   "outputs": [
    {
     "data": {
      "text/html": [
       "<div>\n",
       "<style scoped>\n",
       "    .dataframe tbody tr th:only-of-type {\n",
       "        vertical-align: middle;\n",
       "    }\n",
       "\n",
       "    .dataframe tbody tr th {\n",
       "        vertical-align: top;\n",
       "    }\n",
       "\n",
       "    .dataframe thead th {\n",
       "        text-align: right;\n",
       "    }\n",
       "</style>\n",
       "<table border=\"1\" class=\"dataframe\">\n",
       "  <thead>\n",
       "    <tr style=\"text-align: right;\">\n",
       "      <th></th>\n",
       "      <th>Unnamed: 0</th>\n",
       "      <th>상품명</th>\n",
       "      <th>가격</th>\n",
       "      <th>총점</th>\n",
       "      <th>리뷰수</th>\n",
       "      <th>날짜</th>\n",
       "      <th>아이디</th>\n",
       "      <th>별점</th>\n",
       "      <th>내구성</th>\n",
       "      <th>가격.1</th>\n",
       "      <th>디자인</th>\n",
       "      <th>배송</th>\n",
       "      <th>좋아요</th>\n",
       "      <th>내용</th>\n",
       "      <th>테마</th>\n",
       "    </tr>\n",
       "  </thead>\n",
       "  <tbody>\n",
       "    <tr>\n",
       "      <th>0</th>\n",
       "      <td>0</td>\n",
       "      <td>인테리어 벽난로 장식선반장</td>\n",
       "      <td>290,000원</td>\n",
       "      <td>4.5</td>\n",
       "      <td>-1</td>\n",
       "      <td>2021.01.19 ∙ 오늘의집 구매</td>\n",
       "      <td>예블리예</td>\n",
       "      <td>별점 5.0점</td>\n",
       "      <td>별점 5.0점</td>\n",
       "      <td>별점 5.0점</td>\n",
       "      <td>별점 5.0점</td>\n",
       "      <td>별점 5.0점</td>\n",
       "      <td>1</td>\n",
       "      <td>작년부터 벽난로 욕심났는데... 계속 미루다 이제야 구매했네요 고민은 배송만 늦출뿐...</td>\n",
       "      <td>Vintage</td>\n",
       "    </tr>\n",
       "  </tbody>\n",
       "</table>\n",
       "</div>"
      ],
      "text/plain": [
       "   Unnamed: 0             상품명        가격   총점  리뷰수                    날짜   아이디  \\\n",
       "0           0  인테리어 벽난로 장식선반장  290,000원  4.5   -1  2021.01.19 ∙ 오늘의집 구매  예블리예   \n",
       "\n",
       "        별점      내구성     가격.1      디자인       배송 좋아요  \\\n",
       "0  별점 5.0점  별점 5.0점  별점 5.0점  별점 5.0점  별점 5.0점   1   \n",
       "\n",
       "                                                  내용       테마  \n",
       "0  작년부터 벽난로 욕심났는데... 계속 미루다 이제야 구매했네요 고민은 배송만 늦출뿐...  Vintage  "
      ]
     },
     "execution_count": 92,
     "metadata": {},
     "output_type": "execute_result"
    }
   ],
   "source": [
    "# 리뷰수 column 더하기\n",
    "df_theme.insert(4, \"리뷰수\", -1) # 파라미터: 몇번째 위치, 컬럼명, 값\n",
    "df_theme.head(1)"
   ]
  },
  {
   "cell_type": "code",
   "execution_count": 96,
   "id": "authentic-agency",
   "metadata": {},
   "outputs": [
    {
     "name": "stdout",
     "output_type": "stream",
     "text": [
      "(508629, 14)\n"
     ]
    },
    {
     "data": {
      "text/html": [
       "<div>\n",
       "<style scoped>\n",
       "    .dataframe tbody tr th:only-of-type {\n",
       "        vertical-align: middle;\n",
       "    }\n",
       "\n",
       "    .dataframe tbody tr th {\n",
       "        vertical-align: top;\n",
       "    }\n",
       "\n",
       "    .dataframe thead th {\n",
       "        text-align: right;\n",
       "    }\n",
       "</style>\n",
       "<table border=\"1\" class=\"dataframe\">\n",
       "  <thead>\n",
       "    <tr style=\"text-align: right;\">\n",
       "      <th></th>\n",
       "      <th>Unnamed: 0</th>\n",
       "      <th>상품명</th>\n",
       "      <th>가격</th>\n",
       "      <th>총점</th>\n",
       "      <th>리뷰수</th>\n",
       "      <th>날짜</th>\n",
       "      <th>아이디</th>\n",
       "      <th>별점</th>\n",
       "      <th>내구성</th>\n",
       "      <th>가격.1</th>\n",
       "      <th>디자인</th>\n",
       "      <th>배송</th>\n",
       "      <th>좋아요</th>\n",
       "      <th>내용</th>\n",
       "    </tr>\n",
       "  </thead>\n",
       "  <tbody>\n",
       "    <tr>\n",
       "      <th>0</th>\n",
       "      <td>0</td>\n",
       "      <td>인테리어 벽난로 장식선반장</td>\n",
       "      <td>290,000원</td>\n",
       "      <td>4.5</td>\n",
       "      <td>-1</td>\n",
       "      <td>2021.01.19 ∙ 오늘의집 구매</td>\n",
       "      <td>예블리예</td>\n",
       "      <td>별점 5.0점</td>\n",
       "      <td>별점 5.0점</td>\n",
       "      <td>별점 5.0점</td>\n",
       "      <td>별점 5.0점</td>\n",
       "      <td>별점 5.0점</td>\n",
       "      <td>1</td>\n",
       "      <td>작년부터 벽난로 욕심났는데... 계속 미루다 이제야 구매했네요 고민은 배송만 늦출뿐...</td>\n",
       "    </tr>\n",
       "  </tbody>\n",
       "</table>\n",
       "</div>"
      ],
      "text/plain": [
       "   Unnamed: 0             상품명        가격   총점  리뷰수                    날짜   아이디  \\\n",
       "0           0  인테리어 벽난로 장식선반장  290,000원  4.5   -1  2021.01.19 ∙ 오늘의집 구매  예블리예   \n",
       "\n",
       "        별점      내구성     가격.1      디자인       배송 좋아요  \\\n",
       "0  별점 5.0점  별점 5.0점  별점 5.0점  별점 5.0점  별점 5.0점   1   \n",
       "\n",
       "                                                  내용  \n",
       "0  작년부터 벽난로 욕심났는데... 계속 미루다 이제야 구매했네요 고민은 배송만 늦출뿐...  "
      ]
     },
     "execution_count": 96,
     "metadata": {},
     "output_type": "execute_result"
    }
   ],
   "source": [
    "# 테마 column 지우기\n",
    "df_theme = df_theme.drop(columns=['테마'])\n",
    "print(df_theme.shape)\n",
    "df_theme.head(1)"
   ]
  },
  {
   "cell_type": "code",
   "execution_count": 109,
   "id": "useful-anaheim",
   "metadata": {},
   "outputs": [
    {
     "data": {
      "text/plain": [
       "371"
      ]
     },
     "execution_count": 109,
     "metadata": {},
     "output_type": "execute_result"
    }
   ],
   "source": [
    "df_theme.상품명.nunique()"
   ]
  },
  {
   "cell_type": "code",
   "execution_count": 110,
   "id": "heated-paris",
   "metadata": {},
   "outputs": [],
   "source": [
    "# 상품명별 리뷰수 dictionary형태로 빼기\n",
    "num_of_review = df_theme.상품명.value_counts().to_dict()"
   ]
  },
  {
   "cell_type": "code",
   "execution_count": 115,
   "id": "traditional-description",
   "metadata": {},
   "outputs": [
    {
     "name": "stdout",
     "output_type": "stream",
     "text": [
      "371\n"
     ]
    },
    {
     "data": {
      "text/plain": [
       "1019"
      ]
     },
     "execution_count": 115,
     "metadata": {},
     "output_type": "execute_result"
    }
   ],
   "source": [
    "print(len(num_of_review))\n",
    "num_of_review['인테리어 벽난로 장식선반장'] # 값 하나 불러보기"
   ]
  },
  {
   "cell_type": "code",
   "execution_count": 150,
   "id": "equal-catch",
   "metadata": {},
   "outputs": [
    {
     "data": {
      "text/plain": [
       "Unnamed: 0                                                    0\n",
       "상품명                                              인테리어 벽난로 장식선반장\n",
       "가격                                                     290,000원\n",
       "총점                                                          4.5\n",
       "리뷰수                                                          -1\n",
       "날짜                                         2021.01.19 ∙ 오늘의집 구매\n",
       "아이디                                                        예블리예\n",
       "별점                                                      별점 5.0점\n",
       "내구성                                                     별점 5.0점\n",
       "가격.1                                                    별점 5.0점\n",
       "디자인                                                     별점 5.0점\n",
       "배송                                                      별점 5.0점\n",
       "좋아요                                                           1\n",
       "내용            작년부터 벽난로 욕심났는데... 계속 미루다 이제야 구매했네요 고민은 배송만 늦출뿐...\n",
       "Name: 0, dtype: object"
      ]
     },
     "execution_count": 150,
     "metadata": {},
     "output_type": "execute_result"
    }
   ],
   "source": [
    "df_theme.iloc[0] # ['상품명']"
   ]
  },
  {
   "cell_type": "code",
   "execution_count": 167,
   "id": "underlying-counter",
   "metadata": {},
   "outputs": [
    {
     "data": {
      "text/plain": [
       "704"
      ]
     },
     "execution_count": 167,
     "metadata": {},
     "output_type": "execute_result"
    }
   ],
   "source": [
    "num_of_review[df_theme.iloc[1020]['상품명']]"
   ]
  },
  {
   "cell_type": "code",
   "execution_count": 168,
   "id": "noted-password",
   "metadata": {},
   "outputs": [
    {
     "data": {
      "text/html": [
       "<div>\n",
       "<style scoped>\n",
       "    .dataframe tbody tr th:only-of-type {\n",
       "        vertical-align: middle;\n",
       "    }\n",
       "\n",
       "    .dataframe tbody tr th {\n",
       "        vertical-align: top;\n",
       "    }\n",
       "\n",
       "    .dataframe thead th {\n",
       "        text-align: right;\n",
       "    }\n",
       "</style>\n",
       "<table border=\"1\" class=\"dataframe\">\n",
       "  <thead>\n",
       "    <tr style=\"text-align: right;\">\n",
       "      <th></th>\n",
       "      <th>Unnamed: 0</th>\n",
       "      <th>상품명</th>\n",
       "      <th>가격</th>\n",
       "      <th>총점</th>\n",
       "      <th>리뷰수</th>\n",
       "      <th>날짜</th>\n",
       "      <th>아이디</th>\n",
       "      <th>별점</th>\n",
       "      <th>내구성</th>\n",
       "      <th>가격.1</th>\n",
       "      <th>디자인</th>\n",
       "      <th>배송</th>\n",
       "      <th>좋아요</th>\n",
       "      <th>내용</th>\n",
       "    </tr>\n",
       "  </thead>\n",
       "  <tbody>\n",
       "    <tr>\n",
       "      <th>0</th>\n",
       "      <td>0</td>\n",
       "      <td>인테리어 벽난로 장식선반장</td>\n",
       "      <td>290,000원</td>\n",
       "      <td>4.5</td>\n",
       "      <td>1019</td>\n",
       "      <td>2021.01.19 ∙ 오늘의집 구매</td>\n",
       "      <td>예블리예</td>\n",
       "      <td>별점 5.0점</td>\n",
       "      <td>별점 5.0점</td>\n",
       "      <td>별점 5.0점</td>\n",
       "      <td>별점 5.0점</td>\n",
       "      <td>별점 5.0점</td>\n",
       "      <td>1</td>\n",
       "      <td>작년부터 벽난로 욕심났는데... 계속 미루다 이제야 구매했네요 고민은 배송만 늦출뿐...</td>\n",
       "    </tr>\n",
       "    <tr>\n",
       "      <th>1</th>\n",
       "      <td>1</td>\n",
       "      <td>인테리어 벽난로 장식선반장</td>\n",
       "      <td>290,000원</td>\n",
       "      <td>4.5</td>\n",
       "      <td>1019</td>\n",
       "      <td>2021.01.03 ∙ 오늘의집 구매</td>\n",
       "      <td>꽃님언니</td>\n",
       "      <td>별점 4.5점</td>\n",
       "      <td>별점 4.0점</td>\n",
       "      <td>별점 5.0점</td>\n",
       "      <td>별점 5.0점</td>\n",
       "      <td>별점 4.0점</td>\n",
       "      <td>1</td>\n",
       "      <td>거실 통하는 복도가 썰렁해서 벽난로 뒀어요 ㅎㅎ 귀가해서 주머니 속에 있는 자동차 ...</td>\n",
       "    </tr>\n",
       "  </tbody>\n",
       "</table>\n",
       "</div>"
      ],
      "text/plain": [
       "   Unnamed: 0             상품명        가격   총점   리뷰수                    날짜  \\\n",
       "0           0  인테리어 벽난로 장식선반장  290,000원  4.5  1019  2021.01.19 ∙ 오늘의집 구매   \n",
       "1           1  인테리어 벽난로 장식선반장  290,000원  4.5  1019  2021.01.03 ∙ 오늘의집 구매   \n",
       "\n",
       "    아이디       별점      내구성     가격.1      디자인       배송 좋아요  \\\n",
       "0  예블리예  별점 5.0점  별점 5.0점  별점 5.0점  별점 5.0점  별점 5.0점   1   \n",
       "1  꽃님언니  별점 4.5점  별점 4.0점  별점 5.0점  별점 5.0점  별점 4.0점   1   \n",
       "\n",
       "                                                  내용  \n",
       "0  작년부터 벽난로 욕심났는데... 계속 미루다 이제야 구매했네요 고민은 배송만 늦출뿐...  \n",
       "1  거실 통하는 복도가 썰렁해서 벽난로 뒀어요 ㅎㅎ 귀가해서 주머니 속에 있는 자동차 ...  "
      ]
     },
     "execution_count": 168,
     "metadata": {},
     "output_type": "execute_result"
    }
   ],
   "source": [
    "for i in range(df_theme.shape[0]):\n",
    "    # 해당 행의 column명 값을 바꾸는 코드\n",
    "    df_theme.at[i, '리뷰수'] = num_of_review[df_theme.iloc[i]['상품명']]\n",
    "df_theme.head(2)"
   ]
  },
  {
   "cell_type": "code",
   "execution_count": 185,
   "id": "fatal-tuning",
   "metadata": {},
   "outputs": [
    {
     "data": {
      "text/plain": [
       "Unnamed: 0                      27813\n",
       "상품명           베가 플리아 투명 접이식의자 7colors\n",
       "가격                            48,900원\n",
       "총점                                4.7\n",
       "리뷰수                             16981\n",
       "날짜               2021.01.03 ∙ 오늘의집 구매\n",
       "아이디                              아비스파\n",
       "별점                            별점 5.0점\n",
       "내구성                           별점 5.0점\n",
       "가격.1                          별점 5.0점\n",
       "디자인                           별점 5.0점\n",
       "배송                            별점 5.0점\n",
       "좋아요                              none\n",
       "내용               물건도 예쁘고 배송도 빨라서 좋습니다\n",
       "Name: 27777, dtype: object"
      ]
     },
     "execution_count": 185,
     "metadata": {},
     "output_type": "execute_result"
    }
   ],
   "source": [
    "df_theme.iloc[27777]"
   ]
  },
  {
   "cell_type": "code",
   "execution_count": 186,
   "id": "billion-compound",
   "metadata": {},
   "outputs": [
    {
     "data": {
      "text/html": [
       "<div>\n",
       "<style scoped>\n",
       "    .dataframe tbody tr th:only-of-type {\n",
       "        vertical-align: middle;\n",
       "    }\n",
       "\n",
       "    .dataframe tbody tr th {\n",
       "        vertical-align: top;\n",
       "    }\n",
       "\n",
       "    .dataframe thead th {\n",
       "        text-align: right;\n",
       "    }\n",
       "</style>\n",
       "<table border=\"1\" class=\"dataframe\">\n",
       "  <thead>\n",
       "    <tr style=\"text-align: right;\">\n",
       "      <th></th>\n",
       "      <th>Unnamed: 0</th>\n",
       "      <th>상품명</th>\n",
       "      <th>가격</th>\n",
       "      <th>총점</th>\n",
       "      <th>리뷰수</th>\n",
       "      <th>날짜</th>\n",
       "      <th>아이디</th>\n",
       "      <th>별점</th>\n",
       "      <th>내구성</th>\n",
       "      <th>가격.1</th>\n",
       "      <th>디자인</th>\n",
       "      <th>배송</th>\n",
       "      <th>좋아요</th>\n",
       "      <th>내용</th>\n",
       "    </tr>\n",
       "  </thead>\n",
       "  <tbody>\n",
       "  </tbody>\n",
       "</table>\n",
       "</div>"
      ],
      "text/plain": [
       "Empty DataFrame\n",
       "Columns: [Unnamed: 0, 상품명, 가격, 총점, 리뷰수, 날짜, 아이디, 별점, 내구성, 가격.1, 디자인, 배송, 좋아요, 내용]\n",
       "Index: []"
      ]
     },
     "execution_count": 186,
     "metadata": {},
     "output_type": "execute_result"
    }
   ],
   "source": [
    "# 리뷰수 체크 안된 row 있나 확인\n",
    "df_theme[df_theme.리뷰수 == -1]"
   ]
  },
  {
   "cell_type": "code",
   "execution_count": 187,
   "id": "linear-drove",
   "metadata": {},
   "outputs": [
    {
     "data": {
      "text/html": [
       "<div>\n",
       "<style scoped>\n",
       "    .dataframe tbody tr th:only-of-type {\n",
       "        vertical-align: middle;\n",
       "    }\n",
       "\n",
       "    .dataframe tbody tr th {\n",
       "        vertical-align: top;\n",
       "    }\n",
       "\n",
       "    .dataframe thead th {\n",
       "        text-align: right;\n",
       "    }\n",
       "</style>\n",
       "<table border=\"1\" class=\"dataframe\">\n",
       "  <thead>\n",
       "    <tr style=\"text-align: right;\">\n",
       "      <th></th>\n",
       "      <th>Unnamed: 0</th>\n",
       "      <th>상품명</th>\n",
       "      <th>가격</th>\n",
       "      <th>총점</th>\n",
       "      <th>리뷰수</th>\n",
       "      <th>날짜</th>\n",
       "      <th>아이디</th>\n",
       "      <th>별점</th>\n",
       "      <th>내구성</th>\n",
       "      <th>가격.1</th>\n",
       "      <th>디자인</th>\n",
       "      <th>배송</th>\n",
       "      <th>좋아요</th>\n",
       "      <th>내용</th>\n",
       "    </tr>\n",
       "  </thead>\n",
       "  <tbody>\n",
       "  </tbody>\n",
       "</table>\n",
       "</div>"
      ],
      "text/plain": [
       "Empty DataFrame\n",
       "Columns: [Unnamed: 0, 상품명, 가격, 총점, 리뷰수, 날짜, 아이디, 별점, 내구성, 가격.1, 디자인, 배송, 좋아요, 내용]\n",
       "Index: []"
      ]
     },
     "execution_count": 187,
     "metadata": {},
     "output_type": "execute_result"
    }
   ],
   "source": [
    "# 상세별점 안 남긴 row 있나 확인\n",
    "df_theme[df_theme['내구성']==np.nan]"
   ]
  },
  {
   "cell_type": "markdown",
   "id": "breathing-making",
   "metadata": {},
   "source": [
    "## 새로운 df_full"
   ]
  },
  {
   "cell_type": "code",
   "execution_count": 251,
   "id": "alike-garbage",
   "metadata": {},
   "outputs": [
    {
     "data": {
      "text/plain": [
       "(1010721, 14)"
      ]
     },
     "execution_count": 251,
     "metadata": {},
     "output_type": "execute_result"
    }
   ],
   "source": [
    "# 합쳐보자\n",
    "df_full = pd.concat([df_1, df_2, df_3, df_theme]) # list에 DataFrame 차곡차곡 지정\n",
    "df_full.shape"
   ]
  },
  {
   "cell_type": "code",
   "execution_count": 252,
   "id": "classified-shipping",
   "metadata": {},
   "outputs": [
    {
     "data": {
      "text/plain": [
       "3847"
      ]
     },
     "execution_count": 252,
     "metadata": {},
     "output_type": "execute_result"
    }
   ],
   "source": [
    "#######################\n",
    "#  컬럼 골라내기\n",
    "#######################\n",
    "df = df_full[['상품명','가격','총점','리뷰수','날짜','아이디','별점','내구성','가격.1','디자인','배송','좋아요','내용']]\n",
    "df.상품명.nunique()"
   ]
  },
  {
   "cell_type": "code",
   "execution_count": 253,
   "id": "dependent-manufacturer",
   "metadata": {},
   "outputs": [
    {
     "data": {
      "text/plain": [
       "(1010721, 13)"
      ]
     },
     "execution_count": 253,
     "metadata": {},
     "output_type": "execute_result"
    }
   ],
   "source": [
    "df.shape"
   ]
  },
  {
   "cell_type": "code",
   "execution_count": 254,
   "id": "fatty-statistics",
   "metadata": {},
   "outputs": [
    {
     "data": {
      "text/html": [
       "<div>\n",
       "<style scoped>\n",
       "    .dataframe tbody tr th:only-of-type {\n",
       "        vertical-align: middle;\n",
       "    }\n",
       "\n",
       "    .dataframe tbody tr th {\n",
       "        vertical-align: top;\n",
       "    }\n",
       "\n",
       "    .dataframe thead th {\n",
       "        text-align: right;\n",
       "    }\n",
       "</style>\n",
       "<table border=\"1\" class=\"dataframe\">\n",
       "  <thead>\n",
       "    <tr style=\"text-align: right;\">\n",
       "      <th></th>\n",
       "      <th>상품명</th>\n",
       "      <th>가격</th>\n",
       "      <th>총점</th>\n",
       "      <th>리뷰수</th>\n",
       "      <th>날짜</th>\n",
       "      <th>아이디</th>\n",
       "      <th>별점</th>\n",
       "      <th>내구성</th>\n",
       "      <th>가격.1</th>\n",
       "      <th>디자인</th>\n",
       "      <th>배송</th>\n",
       "      <th>좋아요</th>\n",
       "      <th>내용</th>\n",
       "    </tr>\n",
       "  </thead>\n",
       "  <tbody>\n",
       "    <tr>\n",
       "      <th>49386</th>\n",
       "      <td>지노위빙 사각테이블 2size 3colors</td>\n",
       "      <td>12,900원</td>\n",
       "      <td>4.6</td>\n",
       "      <td>979</td>\n",
       "      <td>2020.09.16 ∙ 오늘의집 구매</td>\n",
       "      <td>pooh5462</td>\n",
       "      <td>별점 5.0점</td>\n",
       "      <td>별점 5.0점</td>\n",
       "      <td>별점 5.0점</td>\n",
       "      <td>별점 5.0점</td>\n",
       "      <td>별점 5.0점</td>\n",
       "      <td>none</td>\n",
       "      <td>비싼거 필요없어요 너무 이뻐요!!!!! 큰사이즈 사려다 작은거 삿는데 제가 원한 느...</td>\n",
       "    </tr>\n",
       "    <tr>\n",
       "      <th>165148</th>\n",
       "      <td>Romane 발매트 shape type 6종 택1</td>\n",
       "      <td>9,400원</td>\n",
       "      <td>4.8</td>\n",
       "      <td>5,031</td>\n",
       "      <td>2020.12.10 ∙ 오늘의집 구매</td>\n",
       "      <td>harperlog</td>\n",
       "      <td>별점 5.0점</td>\n",
       "      <td>별점 5.0점</td>\n",
       "      <td>별점 5.0점</td>\n",
       "      <td>별점 5.0점</td>\n",
       "      <td>별점 5.0점</td>\n",
       "      <td>none</td>\n",
       "      <td>따뜻하고 귀여운 노란빛이에요ㅠㅠㅠ 생각보다 더 큼직하고 문 크기에 잘 맞아서 완전 ...</td>\n",
       "    </tr>\n",
       "    <tr>\n",
       "      <th>24564</th>\n",
       "      <td>베가 플리아 투명 접이식의자 7colors</td>\n",
       "      <td>48,900원</td>\n",
       "      <td>4.7</td>\n",
       "      <td>16981</td>\n",
       "      <td>2021.01.13 ∙ 오늘의집 구매</td>\n",
       "      <td>구지현5</td>\n",
       "      <td>별점 4.0점</td>\n",
       "      <td>별점 4.0점</td>\n",
       "      <td>별점 4.0점</td>\n",
       "      <td>별점 5.0점</td>\n",
       "      <td>별점 3.0점</td>\n",
       "      <td>none</td>\n",
       "      <td>틴트브라운 투명 둘다 마음에 들어요 다만 접이식이라 그런지 앉는 부분이 짧아 아주 ...</td>\n",
       "    </tr>\n",
       "    <tr>\n",
       "      <th>234254</th>\n",
       "      <td>유럽인기 라탄바구니/라탄 화분커버</td>\n",
       "      <td>5,900원</td>\n",
       "      <td>4.6</td>\n",
       "      <td>1,743</td>\n",
       "      <td>2020.07.04 ∙ 다른 쇼핑몰 구매</td>\n",
       "      <td>행복천사8</td>\n",
       "      <td>별점 5.0점</td>\n",
       "      <td>none</td>\n",
       "      <td>none</td>\n",
       "      <td>none</td>\n",
       "      <td>none</td>\n",
       "      <td>none</td>\n",
       "      <td>가성비 갑인 바구니에요~~작은 사이즈는 휴지케이스로 사용하고 중간 사이즈는 재활용 ...</td>\n",
       "    </tr>\n",
       "    <tr>\n",
       "      <th>250812</th>\n",
       "      <td>선데이 러그 7size 4colors</td>\n",
       "      <td>15,900원</td>\n",
       "      <td>4.7</td>\n",
       "      <td>77378</td>\n",
       "      <td>2020.04.23 ∙ 오늘의집 구매</td>\n",
       "      <td>앙마아니</td>\n",
       "      <td>별점 5.0점</td>\n",
       "      <td>별점 5.0점</td>\n",
       "      <td>별점 5.0점</td>\n",
       "      <td>별점 5.0점</td>\n",
       "      <td>별점 5.0점</td>\n",
       "      <td>none</td>\n",
       "      <td>우리집 거실에 딱 완전 잘샀어요 청소기로 막 밀어도 되고요</td>\n",
       "    </tr>\n",
       "    <tr>\n",
       "      <th>30896</th>\n",
       "      <td>[LED] 우드디쉬 단스탠드</td>\n",
       "      <td>48,900원</td>\n",
       "      <td>4.6</td>\n",
       "      <td>97</td>\n",
       "      <td>2018.08.21 ∙ 오늘의집 구매</td>\n",
       "      <td>뽀오뽀</td>\n",
       "      <td>별점 5.0점</td>\n",
       "      <td>별점 5.0점</td>\n",
       "      <td>별점 5.0점</td>\n",
       "      <td>별점 5.0점</td>\n",
       "      <td>별점 5.0점</td>\n",
       "      <td>none</td>\n",
       "      <td>오아 조명도 은은하구 고급스러워요~~♡</td>\n",
       "    </tr>\n",
       "    <tr>\n",
       "      <th>505379</th>\n",
       "      <td>VARNA 단스탠드 6colors E14 KS2246T</td>\n",
       "      <td>13,300원</td>\n",
       "      <td>4.7</td>\n",
       "      <td>8277</td>\n",
       "      <td>2020.03.18 ∙ 오늘의집 구매</td>\n",
       "      <td>514ceo</td>\n",
       "      <td>별점 5.0점</td>\n",
       "      <td>별점 5.0점</td>\n",
       "      <td>별점 5.0점</td>\n",
       "      <td>별점 5.0점</td>\n",
       "      <td>별점 5.0점</td>\n",
       "      <td>1</td>\n",
       "      <td>디자인이며 아주 마음에 드네요^^ 배송도 빨라요</td>\n",
       "    </tr>\n",
       "    <tr>\n",
       "      <th>276416</th>\n",
       "      <td>[5%추가할인] 원목 오동나무 우드블라인드 우드폼 45colors</td>\n",
       "      <td>17,000원</td>\n",
       "      <td>4.6</td>\n",
       "      <td>3133</td>\n",
       "      <td>2021.01.05 ∙ 오늘의집 구매</td>\n",
       "      <td>앤지z</td>\n",
       "      <td>별점 4.3점</td>\n",
       "      <td>별점 3.0점</td>\n",
       "      <td>별점 4.0점</td>\n",
       "      <td>별점 5.0점</td>\n",
       "      <td>별점 5.0점</td>\n",
       "      <td>none</td>\n",
       "      <td>배송이 느릴줄 알았는데 2-3일만에 온거같구요 창문이 갈색이라 맘에 안들었는데 요 ...</td>\n",
       "    </tr>\n",
       "    <tr>\n",
       "      <th>133290</th>\n",
       "      <td>VIANT 단스탠드 E14 KS2305T 베이스형</td>\n",
       "      <td>31,900원</td>\n",
       "      <td>4.7</td>\n",
       "      <td>31</td>\n",
       "      <td>2020.12.03 ∙ 오늘의집 구매</td>\n",
       "      <td>채명지</td>\n",
       "      <td>별점 5.0점</td>\n",
       "      <td>별점 5.0점</td>\n",
       "      <td>별점 5.0점</td>\n",
       "      <td>별점 5.0점</td>\n",
       "      <td>별점 5.0점</td>\n",
       "      <td>none</td>\n",
       "      <td>방분위기를 확살려주는 조명이에요 작은데 방에두기 딱이고 넘 예뻐요</td>\n",
       "    </tr>\n",
       "    <tr>\n",
       "      <th>62101</th>\n",
       "      <td>프리미엄 다크 일파만파 북선반 4colors</td>\n",
       "      <td>39,000원</td>\n",
       "      <td>4.2</td>\n",
       "      <td>685</td>\n",
       "      <td>2020.11.06 ∙ 오늘의집 구매</td>\n",
       "      <td>희야1210</td>\n",
       "      <td>별점 3.5점</td>\n",
       "      <td>별점 3.0점</td>\n",
       "      <td>별점 3.0점</td>\n",
       "      <td>별점 4.0점</td>\n",
       "      <td>별점 4.0점</td>\n",
       "      <td>none</td>\n",
       "      <td>우선 냄새 빼는데 이틀 꼬박 걸렸어요 레몬소주로 닦아 베란다에 이틀 두고 닦았더니 ...</td>\n",
       "    </tr>\n",
       "  </tbody>\n",
       "</table>\n",
       "</div>"
      ],
      "text/plain": [
       "                                         상품명       가격   총점    리뷰수  \\\n",
       "49386               지노위빙 사각테이블 2size 3colors  12,900원  4.6    979   \n",
       "165148           Romane 발매트 shape type 6종 택1   9,400원  4.8  5,031   \n",
       "24564                베가 플리아 투명 접이식의자 7colors  48,900원  4.7  16981   \n",
       "234254                    유럽인기 라탄바구니/라탄 화분커버   5,900원  4.6  1,743   \n",
       "250812                  선데이 러그 7size 4colors  15,900원  4.7  77378   \n",
       "30896                        [LED] 우드디쉬 단스탠드  48,900원  4.6     97   \n",
       "505379        VARNA 단스탠드 6colors E14 KS2246T  13,300원  4.7   8277   \n",
       "276416  [5%추가할인] 원목 오동나무 우드블라인드 우드폼 45colors  17,000원  4.6   3133   \n",
       "133290           VIANT 단스탠드 E14 KS2305T 베이스형  31,900원  4.7     31   \n",
       "62101               프리미엄 다크 일파만파 북선반 4colors  39,000원  4.2    685   \n",
       "\n",
       "                            날짜        아이디       별점      내구성     가격.1      디자인  \\\n",
       "49386     2020.09.16 ∙ 오늘의집 구매   pooh5462  별점 5.0점  별점 5.0점  별점 5.0점  별점 5.0점   \n",
       "165148    2020.12.10 ∙ 오늘의집 구매  harperlog  별점 5.0점  별점 5.0점  별점 5.0점  별점 5.0점   \n",
       "24564     2021.01.13 ∙ 오늘의집 구매       구지현5  별점 4.0점  별점 4.0점  별점 4.0점  별점 5.0점   \n",
       "234254  2020.07.04 ∙ 다른 쇼핑몰 구매      행복천사8  별점 5.0점     none     none     none   \n",
       "250812    2020.04.23 ∙ 오늘의집 구매       앙마아니  별점 5.0점  별점 5.0점  별점 5.0점  별점 5.0점   \n",
       "30896     2018.08.21 ∙ 오늘의집 구매        뽀오뽀  별점 5.0점  별점 5.0점  별점 5.0점  별점 5.0점   \n",
       "505379    2020.03.18 ∙ 오늘의집 구매     514ceo  별점 5.0점  별점 5.0점  별점 5.0점  별점 5.0점   \n",
       "276416    2021.01.05 ∙ 오늘의집 구매        앤지z  별점 4.3점  별점 3.0점  별점 4.0점  별점 5.0점   \n",
       "133290    2020.12.03 ∙ 오늘의집 구매        채명지  별점 5.0점  별점 5.0점  별점 5.0점  별점 5.0점   \n",
       "62101     2020.11.06 ∙ 오늘의집 구매     희야1210  별점 3.5점  별점 3.0점  별점 3.0점  별점 4.0점   \n",
       "\n",
       "             배송   좋아요                                                 내용  \n",
       "49386   별점 5.0점  none  비싼거 필요없어요 너무 이뻐요!!!!! 큰사이즈 사려다 작은거 삿는데 제가 원한 느...  \n",
       "165148  별점 5.0점  none  따뜻하고 귀여운 노란빛이에요ㅠㅠㅠ 생각보다 더 큼직하고 문 크기에 잘 맞아서 완전 ...  \n",
       "24564   별점 3.0점  none  틴트브라운 투명 둘다 마음에 들어요 다만 접이식이라 그런지 앉는 부분이 짧아 아주 ...  \n",
       "234254     none  none  가성비 갑인 바구니에요~~작은 사이즈는 휴지케이스로 사용하고 중간 사이즈는 재활용 ...  \n",
       "250812  별점 5.0점  none                   우리집 거실에 딱 완전 잘샀어요 청소기로 막 밀어도 되고요  \n",
       "30896   별점 5.0점  none                              오아 조명도 은은하구 고급스러워요~~♡  \n",
       "505379  별점 5.0점     1                         디자인이며 아주 마음에 드네요^^ 배송도 빨라요  \n",
       "276416  별점 5.0점  none  배송이 느릴줄 알았는데 2-3일만에 온거같구요 창문이 갈색이라 맘에 안들었는데 요 ...  \n",
       "133290  별점 5.0점  none               방분위기를 확살려주는 조명이에요 작은데 방에두기 딱이고 넘 예뻐요  \n",
       "62101   별점 4.0점  none  우선 냄새 빼는데 이틀 꼬박 걸렸어요 레몬소주로 닦아 베란다에 이틀 두고 닦았더니 ...  "
      ]
     },
     "execution_count": 254,
     "metadata": {},
     "output_type": "execute_result"
    }
   ],
   "source": [
    "df.sample(10)"
   ]
  },
  {
   "cell_type": "markdown",
   "id": "reported-sleeping",
   "metadata": {},
   "source": [
    "## 전처리"
   ]
  },
  {
   "cell_type": "code",
   "execution_count": 255,
   "id": "composite-breathing",
   "metadata": {},
   "outputs": [
    {
     "data": {
      "text/plain": [
       "(817400, 13)"
      ]
     },
     "execution_count": 255,
     "metadata": {},
     "output_type": "execute_result"
    }
   ],
   "source": [
    "# dropna, drop_duplicates()\n",
    "# df = df.dropna() # null값 있는 row 없에는 코드는 일단 제외\n",
    "df = df.drop_duplicates()\n",
    "df.shape"
   ]
  },
  {
   "cell_type": "code",
   "execution_count": 256,
   "id": "ruled-glance",
   "metadata": {},
   "outputs": [
    {
     "data": {
      "text/plain": [
       "array(['2', '56', '6', ..., 49, 174, 1604], dtype=object)"
      ]
     },
     "execution_count": 256,
     "metadata": {},
     "output_type": "execute_result"
    }
   ],
   "source": [
    "# test\n",
    "df.리뷰수.unique() # 혹시 -1 남았나 확인"
   ]
  },
  {
   "cell_type": "code",
   "execution_count": 257,
   "id": "removed-visit",
   "metadata": {
    "collapsed": true,
    "jupyter": {
     "outputs_hidden": true
    }
   },
   "outputs": [
    {
     "data": {
      "text/plain": [
       "array(['none', '2', '1', '7', '6', '4', '3', '9', '5', '49', '8', '248',\n",
       "       '27', '26', '23', '21', '18', '16', '15', '13', '11', '10', '19',\n",
       "       '303', '223', '86', '82', '79', '48', '47', '36', '35', '34', '29',\n",
       "       '25', '24', '20', '14', '55', '37', '17', '12', '33', '70', '217',\n",
       "       '88', '87', '31', '28', '50', '46', '1,080', '191', '271', '67',\n",
       "       '63', '22', '39', '38', '30', '97', '66', '51', '42', '1,606',\n",
       "       '996', '144', '40', '32', '212', '1,134', '346', '298', '211',\n",
       "       '165', '161', '105', '84', '61', '59', '56', '101', '81', '77',\n",
       "       '703', '362', '251', '228', '201', '91', '85', '65', '45', '72',\n",
       "       '160', '58', '57', '213', '71', '54', '53', '52', '44', '230',\n",
       "       '502', '443', '89', '62', '173', '169', '129', '68', '60', '302',\n",
       "       '136', '115', '73', '261', '114', '75', '78', '309', '69', '41',\n",
       "       '102', '64', '264', '146', '90', '483', '83', '182', '596', '99',\n",
       "       '187', '135', '123', '103', '485', '286', '149', '342', '43', '76',\n",
       "       '108', '294', '104', '152', '406', '312', '181', '92', '550',\n",
       "       '167', '116', '262', '324', '112', '107', '142', '125', '150',\n",
       "       '74', '155', '137', '382', '424', '321', '210', '274', '122',\n",
       "       '172', '188', '247', '310', '126', '245', '380', '462', '468',\n",
       "       '121', '158', '246', '358', '513', '453', '4,153', '131', '139',\n",
       "       '98', '130', '192', '229', '285', '194', '208', '660', '338',\n",
       "       '100', '239', '204', '562', '313', '147', '289', '118', '368',\n",
       "       '381', '124', '4,154', '284', '176', '128', '120', '106', '151',\n",
       "       '133', '80', '470', '398', '171', '148', '113', '177', '1,185',\n",
       "       '291', '263', '159', '224', '178', '695', '670', '287', '199',\n",
       "       '166', '162', '109', '179', '410', '174', '93', '168', '299',\n",
       "       '157', '96', '2,333', '669', '668', '629', '573', '472', '404',\n",
       "       '280', '231', '190', '163', '154', '117', '606', '598', '590',\n",
       "       '577', '576', '565', '547', '527', '526', '518', '517', '514',\n",
       "       '511', '509', '507', '506', '505', '504', '503', '490', '476',\n",
       "       '454', '409', '405', '403', '401', '397', '391', '390', '389',\n",
       "       '388', '387', '386', '383', '357', '347', '340', '336', '333',\n",
       "       '323', '227', '218', '205', '141', '111', '933', '449', '369',\n",
       "       '225', '138', '95', '94', '153', '220', '185', '183', '175', '170',\n",
       "       '164', '156', '145', '352', '854', '739', '600', '445', '334',\n",
       "       '110', '1,044', '536', '237', '260', '244', '236', '134', '127',\n",
       "       '899', '1,497', '802', '528', '189', '119', '363', '328', '243',\n",
       "       '297', '219', '143', '265', '301', '1,673', '193', '360', '917',\n",
       "       '440', '186', '275', '937', '252', '1,264', '234', '667', '221',\n",
       "       '132', '439', '491', '1,111', '686', '2,123', '395', '195',\n",
       "       '1,589', '589', '254', '198', '356', '370', '457', '467', '320',\n",
       "       '1,703', '650', '266', '694', '180', '268', '355', '329', '361',\n",
       "       '351', '200', '400', '570', '2,329', '567', '471', '628', '2,328',\n",
       "       '222', '317', '1,102', '270', '215', '257', '512', '140', '202',\n",
       "       '571', '2,331'], dtype=object)"
      ]
     },
     "execution_count": 257,
     "metadata": {},
     "output_type": "execute_result"
    }
   ],
   "source": [
    "# 좋아요도 none값 없에줘야함!\n",
    "# 좋아요 처리시 ',' 없에줘야함!\n",
    "df.좋아요.unique()"
   ]
  },
  {
   "cell_type": "code",
   "execution_count": 258,
   "id": "honest-topic",
   "metadata": {},
   "outputs": [
    {
     "data": {
      "text/plain": [
       "True"
      ]
     },
     "execution_count": 258,
     "metadata": {},
     "output_type": "execute_result"
    }
   ],
   "source": [
    "pd.isna(np.nan)"
   ]
  },
  {
   "cell_type": "markdown",
   "id": "requested-relations",
   "metadata": {},
   "source": [
    "## 숫자데이터 전처리하는 부분"
   ]
  },
  {
   "cell_type": "code",
   "execution_count": 259,
   "id": "moving-korean",
   "metadata": {},
   "outputs": [
    {
     "data": {
      "text/plain": [
       "0         5.0\n",
       "1         4.0\n",
       "2         5.0\n",
       "3         5.0\n",
       "4         5.0\n",
       "         ... \n",
       "508604    5.0\n",
       "508605    4.0\n",
       "508606    5.0\n",
       "508608    5.0\n",
       "508609    5.0\n",
       "Name: 디자인, Length: 793223, dtype: float64"
      ]
     },
     "execution_count": 259,
     "metadata": {},
     "output_type": "execute_result"
    }
   ],
   "source": [
    "# 숫자 전처리\n",
    "df['별점']=df['별점'].apply(lambda x: float(x[-4:-1]))\n",
    "                                                            # null이 아니고        문자열 길이 6 이상인것만\n",
    "                                                                                  # 나머진 10000.1로 강제 지정\n",
    "df['내구성']=df['내구성'].apply(lambda x: float(x[-4:-1]) if ((not pd.isna(x)) and len(x) > 5) else 10000.1)\n",
    "\n",
    "df['가격.1']=df['가격.1'].apply(lambda x:float(x[-4:-1]) if ((not pd.isna(x)) and len(x) > 5) else 10000.1)\n",
    "\n",
    "df['디자인']=df['디자인'].apply(lambda x: float(x[-4:-1]) if ((not pd.isna(x)) and len(x) > 5) else 10000.1)\n",
    "\n",
    "df['배송']=df['배송'].apply(lambda x: float(x[-4:-1]) if ((not pd.isna(x)) and len(x) > 5) else 10000.1)\n",
    "\n",
    "# 좋아요 처리\n",
    "df['좋아요']=df['좋아요'].apply(lambda x: x.replace(\",\",\"\"))\n",
    "df['좋아요']=df['좋아요'].apply(lambda x: int(x) if x != \"none\" else 0)\n",
    "\n",
    "# 상세평점 작성하지 않은 row는 버리기 <- 상품 몇개 날라갈 위험 존재!!!\n",
    "df = df[(df['내구성'] > 0) & (df['내구성'] < 6)]\n",
    "\n",
    "\n",
    "df['디자인']"
   ]
  },
  {
   "cell_type": "code",
   "execution_count": 260,
   "id": "banner-humanity",
   "metadata": {},
   "outputs": [
    {
     "data": {
      "text/plain": [
       "array([4., 5., 3., 2., 1.])"
      ]
     },
     "execution_count": 260,
     "metadata": {},
     "output_type": "execute_result"
    }
   ],
   "source": [
    "df['내구성'].unique()"
   ]
  },
  {
   "cell_type": "code",
   "execution_count": 261,
   "id": "different-audience",
   "metadata": {},
   "outputs": [
    {
     "data": {
      "text/plain": [
       "array(['2', '56', '6', ..., 49, 174, 1604], dtype=object)"
      ]
     },
     "execution_count": 261,
     "metadata": {},
     "output_type": "execute_result"
    }
   ],
   "source": [
    "df['리뷰수'].unique()"
   ]
  },
  {
   "cell_type": "code",
   "execution_count": 264,
   "id": "consecutive-competition",
   "metadata": {},
   "outputs": [
    {
     "data": {
      "text/plain": [
       "401"
      ]
     },
     "execution_count": 264,
     "metadata": {},
     "output_type": "execute_result"
    }
   ],
   "source": [
    "# 좋아요에서 none 없에고 세자리마다 , 표시 제거함\n",
    "df['좋아요'].nunique()"
   ]
  },
  {
   "cell_type": "code",
   "execution_count": 265,
   "id": "external-priority",
   "metadata": {},
   "outputs": [
    {
     "name": "stdout",
     "output_type": "stream",
     "text": [
      "(793223, 13)\n"
     ]
    },
    {
     "data": {
      "text/html": [
       "<div>\n",
       "<style scoped>\n",
       "    .dataframe tbody tr th:only-of-type {\n",
       "        vertical-align: middle;\n",
       "    }\n",
       "\n",
       "    .dataframe tbody tr th {\n",
       "        vertical-align: top;\n",
       "    }\n",
       "\n",
       "    .dataframe thead th {\n",
       "        text-align: right;\n",
       "    }\n",
       "</style>\n",
       "<table border=\"1\" class=\"dataframe\">\n",
       "  <thead>\n",
       "    <tr style=\"text-align: right;\">\n",
       "      <th></th>\n",
       "      <th>상품명</th>\n",
       "      <th>가격</th>\n",
       "      <th>총점</th>\n",
       "      <th>리뷰수</th>\n",
       "      <th>날짜</th>\n",
       "      <th>아이디</th>\n",
       "      <th>별점</th>\n",
       "      <th>내구성</th>\n",
       "      <th>가격.1</th>\n",
       "      <th>디자인</th>\n",
       "      <th>배송</th>\n",
       "      <th>좋아요</th>\n",
       "      <th>내용</th>\n",
       "    </tr>\n",
       "  </thead>\n",
       "  <tbody>\n",
       "    <tr>\n",
       "      <th>0</th>\n",
       "      <td>크리스마스 LED 테이퍼 초 블랙폿 테이블 센터피스 장식 소품</td>\n",
       "      <td>25,000원</td>\n",
       "      <td>4.5</td>\n",
       "      <td>2</td>\n",
       "      <td>2020.11.28 ∙ 오늘의집 구매</td>\n",
       "      <td>warmest_</td>\n",
       "      <td>4.8</td>\n",
       "      <td>4.0</td>\n",
       "      <td>5.0</td>\n",
       "      <td>5.0</td>\n",
       "      <td>5.0</td>\n",
       "      <td>0</td>\n",
       "      <td>오브제 덕분에 지인들과 짧지만 좋은 시간을 가졌습니다:) 디테일도 마음에 들고 확실...</td>\n",
       "    </tr>\n",
       "    <tr>\n",
       "      <th>1</th>\n",
       "      <td>크리스마스 LED 테이퍼 초 블랙폿 테이블 센터피스 장식 소품</td>\n",
       "      <td>25,000원</td>\n",
       "      <td>4.5</td>\n",
       "      <td>2</td>\n",
       "      <td>2020.12.08 ∙ 오늘의집 구매</td>\n",
       "      <td>다현맘이</td>\n",
       "      <td>4.3</td>\n",
       "      <td>4.0</td>\n",
       "      <td>4.0</td>\n",
       "      <td>4.0</td>\n",
       "      <td>5.0</td>\n",
       "      <td>0</td>\n",
       "      <td>브라운을 시켰는데 레드가 왔구요..보니 빨간 열매 한알이 떨어져있네요 예쁘긴한데 내...</td>\n",
       "    </tr>\n",
       "  </tbody>\n",
       "</table>\n",
       "</div>"
      ],
      "text/plain": [
       "                                  상품명       가격   총점 리뷰수                    날짜  \\\n",
       "0  크리스마스 LED 테이퍼 초 블랙폿 테이블 센터피스 장식 소품  25,000원  4.5   2  2020.11.28 ∙ 오늘의집 구매   \n",
       "1  크리스마스 LED 테이퍼 초 블랙폿 테이블 센터피스 장식 소품  25,000원  4.5   2  2020.12.08 ∙ 오늘의집 구매   \n",
       "\n",
       "        아이디   별점  내구성  가격.1  디자인   배송  좋아요  \\\n",
       "0  warmest_  4.8  4.0   5.0  5.0  5.0    0   \n",
       "1      다현맘이  4.3  4.0   4.0  4.0  5.0    0   \n",
       "\n",
       "                                                  내용  \n",
       "0  오브제 덕분에 지인들과 짧지만 좋은 시간을 가졌습니다:) 디테일도 마음에 들고 확실...  \n",
       "1  브라운을 시켰는데 레드가 왔구요..보니 빨간 열매 한알이 떨어져있네요 예쁘긴한데 내...  "
      ]
     },
     "execution_count": 265,
     "metadata": {},
     "output_type": "execute_result"
    }
   ],
   "source": [
    "print(df.shape)\n",
    "df.head(2)"
   ]
  },
  {
   "cell_type": "code",
   "execution_count": 266,
   "id": "metropolitan-cuisine",
   "metadata": {},
   "outputs": [],
   "source": [
    "# 리뷰수, 좋아요까지 최종 조정된 진짜 통합본 내보내기\n",
    "# df.to_excel(\"2차통합(리뷰수조정포함)_전체_리뷰데이터.xlsx\")"
   ]
  },
  {
   "cell_type": "code",
   "execution_count": 220,
   "id": "affecting-allowance",
   "metadata": {},
   "outputs": [
    {
     "data": {
      "text/plain": [
       "(793223, 13)"
      ]
     },
     "execution_count": 220,
     "metadata": {},
     "output_type": "execute_result"
    }
   ],
   "source": [
    "df.shape"
   ]
  },
  {
   "cell_type": "code",
   "execution_count": 269,
   "id": "manual-hampton",
   "metadata": {},
   "outputs": [
    {
     "data": {
      "text/plain": [
       ":)143         70\n",
       "아비스파          66\n",
       "kwon4702      64\n",
       "왜내맘을흔드는건배     58\n",
       "hye_myo       54\n",
       "...754        51\n",
       "박갑연           43\n",
       "히뽀오오          42\n",
       "Roh🍦          42\n",
       "minmin8370    42\n",
       "애플민경          42\n",
       "홍구차차          40\n",
       "ogayeong      40\n",
       "Liche1004     39\n",
       ".둥두ㅇ          39\n",
       "JINNY32       39\n",
       "희야에요          38\n",
       "심재라93         37\n",
       "perola✨       37\n",
       "애3있는집         36\n",
       "Name: 아이디, dtype: int64"
      ]
     },
     "execution_count": 269,
     "metadata": {},
     "output_type": "execute_result"
    }
   ],
   "source": [
    "df.아이디.value_counts()[:20]"
   ]
  },
  {
   "cell_type": "markdown",
   "id": "funky-warrant",
   "metadata": {},
   "source": []
  },
  {
   "cell_type": "code",
   "execution_count": 211,
   "id": "solar-password",
   "metadata": {},
   "outputs": [
    {
     "data": {
      "text/plain": [
       "선데이 러그 7size 4colors                         33619\n",
       "순수원목 선반장 4colors (가로2단)                      29225\n",
       "오로라 단스탠드(전구 증정 이벤트)                          20335\n",
       "애슐리 전신거울 3colors                             14545\n",
       "집순이 슬리브 옥스포드 삼각 등쿠션 (솜포함, 2size / 6color)    14491\n",
       "                                             ...  \n",
       "BEKVAM 3단 사다리                                    1\n",
       "사이드보드 수납형 높은 거실장 1600 (2color)                   1\n",
       "밀크 클래식 사계절 모달 차렵이불 SS Q                          1\n",
       "[해외] Norm 06 전등갓 medium                          1\n",
       "명화 반고흐 그림 엽서카드(pc81)                             1\n",
       "Name: 상품명, Length: 3650, dtype: int64"
      ]
     },
     "execution_count": 211,
     "metadata": {},
     "output_type": "execute_result"
    }
   ],
   "source": [
    "# 합친 데이터프레임 상품명-리뷰수 합산\n",
    "df.상품명.value_counts()"
   ]
  },
  {
   "cell_type": "code",
   "execution_count": 212,
   "id": "undefined-alfred",
   "metadata": {},
   "outputs": [
    {
     "data": {
      "text/html": [
       "<div>\n",
       "<style scoped>\n",
       "    .dataframe tbody tr th:only-of-type {\n",
       "        vertical-align: middle;\n",
       "    }\n",
       "\n",
       "    .dataframe tbody tr th {\n",
       "        vertical-align: top;\n",
       "    }\n",
       "\n",
       "    .dataframe thead th {\n",
       "        text-align: right;\n",
       "    }\n",
       "</style>\n",
       "<table border=\"1\" class=\"dataframe\">\n",
       "  <thead>\n",
       "    <tr style=\"text-align: right;\">\n",
       "      <th></th>\n",
       "      <th>상품명</th>\n",
       "      <th>리뷰수</th>\n",
       "    </tr>\n",
       "  </thead>\n",
       "  <tbody>\n",
       "    <tr>\n",
       "      <th>0</th>\n",
       "      <td>선데이 러그 7size 4colors</td>\n",
       "      <td>33619</td>\n",
       "    </tr>\n",
       "    <tr>\n",
       "      <th>1</th>\n",
       "      <td>순수원목 선반장 4colors (가로2단)</td>\n",
       "      <td>29225</td>\n",
       "    </tr>\n",
       "    <tr>\n",
       "      <th>2</th>\n",
       "      <td>오로라 단스탠드(전구 증정 이벤트)</td>\n",
       "      <td>20335</td>\n",
       "    </tr>\n",
       "    <tr>\n",
       "      <th>3</th>\n",
       "      <td>애슐리 전신거울 3colors</td>\n",
       "      <td>14545</td>\n",
       "    </tr>\n",
       "    <tr>\n",
       "      <th>4</th>\n",
       "      <td>집순이 슬리브 옥스포드 삼각 등쿠션 (솜포함, 2size / 6color)</td>\n",
       "      <td>14491</td>\n",
       "    </tr>\n",
       "    <tr>\n",
       "      <th>...</th>\n",
       "      <td>...</td>\n",
       "      <td>...</td>\n",
       "    </tr>\n",
       "    <tr>\n",
       "      <th>3645</th>\n",
       "      <td>BEKVAM 3단 사다리</td>\n",
       "      <td>1</td>\n",
       "    </tr>\n",
       "    <tr>\n",
       "      <th>3646</th>\n",
       "      <td>사이드보드 수납형 높은 거실장 1600 (2color)</td>\n",
       "      <td>1</td>\n",
       "    </tr>\n",
       "    <tr>\n",
       "      <th>3647</th>\n",
       "      <td>밀크 클래식 사계절 모달 차렵이불 SS Q</td>\n",
       "      <td>1</td>\n",
       "    </tr>\n",
       "    <tr>\n",
       "      <th>3648</th>\n",
       "      <td>[해외] Norm 06 전등갓 medium</td>\n",
       "      <td>1</td>\n",
       "    </tr>\n",
       "    <tr>\n",
       "      <th>3649</th>\n",
       "      <td>명화 반고흐 그림 엽서카드(pc81)</td>\n",
       "      <td>1</td>\n",
       "    </tr>\n",
       "  </tbody>\n",
       "</table>\n",
       "<p>3650 rows × 2 columns</p>\n",
       "</div>"
      ],
      "text/plain": [
       "                                            상품명    리뷰수\n",
       "0                          선데이 러그 7size 4colors  33619\n",
       "1                       순수원목 선반장 4colors (가로2단)  29225\n",
       "2                           오로라 단스탠드(전구 증정 이벤트)  20335\n",
       "3                              애슐리 전신거울 3colors  14545\n",
       "4     집순이 슬리브 옥스포드 삼각 등쿠션 (솜포함, 2size / 6color)  14491\n",
       "...                                         ...    ...\n",
       "3645                              BEKVAM 3단 사다리      1\n",
       "3646             사이드보드 수납형 높은 거실장 1600 (2color)      1\n",
       "3647                    밀크 클래식 사계절 모달 차렵이불 SS Q      1\n",
       "3648                    [해외] Norm 06 전등갓 medium      1\n",
       "3649                       명화 반고흐 그림 엽서카드(pc81)      1\n",
       "\n",
       "[3650 rows x 2 columns]"
      ]
     },
     "execution_count": 212,
     "metadata": {},
     "output_type": "execute_result"
    }
   ],
   "source": [
    "# 상품별 데이터프레임 새로 생성\n",
    "df_pre = pd.DataFrame(df['상품명'].value_counts())\n",
    "df_pre.reset_index(level=0, inplace=True)\n",
    "df_pre.columns = ['상품명', '리뷰수']\n",
    "df_pre"
   ]
  },
  {
   "cell_type": "code",
   "execution_count": 213,
   "id": "surprising-orchestra",
   "metadata": {},
   "outputs": [
    {
     "name": "stdout",
     "output_type": "stream",
     "text": [
      "['선데이 러그 7size 4colors', '순수원목 선반장 4colors (가로2단)', '오로라 단스탠드(전구 증정 이벤트)', '애슐리 전신거울 3colors', '집순이 슬리브 옥스포드 삼각 등쿠션 (솜포함, 2size / 6color)', '소프트 모던 러그/카페트 4colors', '순수 원목 선반 신발장 2단', '헤링본 사이잘룩 라탄 러그 카페트 4colors 4size', 'BRUG 스탠드 행거 3colors', '가벽인테리어 스트라이프 파티션 4size 5colors(리뷰이벤트)'] 3650\n"
     ]
    }
   ],
   "source": [
    "# 상품명 따로 빼기\n",
    "pnames = df_pre['상품명'].tolist()\n",
    "print(pnames[:10], len(pnames))"
   ]
  },
  {
   "cell_type": "code",
   "execution_count": 214,
   "id": "heavy-greeting",
   "metadata": {},
   "outputs": [
    {
     "data": {
      "text/html": [
       "<div>\n",
       "<style scoped>\n",
       "    .dataframe tbody tr th:only-of-type {\n",
       "        vertical-align: middle;\n",
       "    }\n",
       "\n",
       "    .dataframe tbody tr th {\n",
       "        vertical-align: top;\n",
       "    }\n",
       "\n",
       "    .dataframe thead th {\n",
       "        text-align: right;\n",
       "    }\n",
       "</style>\n",
       "<table border=\"1\" class=\"dataframe\">\n",
       "  <thead>\n",
       "    <tr style=\"text-align: right;\">\n",
       "      <th></th>\n",
       "      <th>상품명</th>\n",
       "      <th>리뷰수</th>\n",
       "    </tr>\n",
       "  </thead>\n",
       "  <tbody>\n",
       "    <tr>\n",
       "      <th>0</th>\n",
       "      <td>선데이 러그 7size 4colors</td>\n",
       "      <td>33619</td>\n",
       "    </tr>\n",
       "  </tbody>\n",
       "</table>\n",
       "</div>"
      ],
      "text/plain": [
       "                    상품명    리뷰수\n",
       "0  선데이 러그 7size 4colors  33619"
      ]
     },
     "execution_count": 214,
     "metadata": {},
     "output_type": "execute_result"
    }
   ],
   "source": [
    "df_pre.loc[df_pre.상품명 == '선데이 러그 7size 4colors']"
   ]
  },
  {
   "cell_type": "code",
   "execution_count": 146,
   "id": "boxed-buddy",
   "metadata": {},
   "outputs": [],
   "source": [
    "## 전처리 df에 상품별로 분류하기"
   ]
  },
  {
   "cell_type": "code",
   "execution_count": 215,
   "id": "modern-bruce",
   "metadata": {},
   "outputs": [
    {
     "data": {
      "text/html": [
       "<div>\n",
       "<style scoped>\n",
       "    .dataframe tbody tr th:only-of-type {\n",
       "        vertical-align: middle;\n",
       "    }\n",
       "\n",
       "    .dataframe tbody tr th {\n",
       "        vertical-align: top;\n",
       "    }\n",
       "\n",
       "    .dataframe thead th {\n",
       "        text-align: right;\n",
       "    }\n",
       "</style>\n",
       "<table border=\"1\" class=\"dataframe\">\n",
       "  <thead>\n",
       "    <tr style=\"text-align: right;\">\n",
       "      <th></th>\n",
       "      <th>상품명</th>\n",
       "      <th>리뷰수</th>\n",
       "      <th>별점평균</th>\n",
       "      <th>내구성</th>\n",
       "      <th>가격.1</th>\n",
       "      <th>디자인</th>\n",
       "      <th>배송</th>\n",
       "    </tr>\n",
       "  </thead>\n",
       "  <tbody>\n",
       "    <tr>\n",
       "      <th>0</th>\n",
       "      <td>선데이 러그 7size 4colors</td>\n",
       "      <td>33619</td>\n",
       "      <td>4.684907</td>\n",
       "      <td>4.696303</td>\n",
       "      <td>4.635147</td>\n",
       "      <td>4.652399</td>\n",
       "      <td>4.717213</td>\n",
       "    </tr>\n",
       "    <tr>\n",
       "      <th>1</th>\n",
       "      <td>순수원목 선반장 4colors (가로2단)</td>\n",
       "      <td>29225</td>\n",
       "      <td>4.625530</td>\n",
       "      <td>4.702036</td>\n",
       "      <td>4.472643</td>\n",
       "      <td>4.720890</td>\n",
       "      <td>4.561027</td>\n",
       "    </tr>\n",
       "    <tr>\n",
       "      <th>2</th>\n",
       "      <td>오로라 단스탠드(전구 증정 이벤트)</td>\n",
       "      <td>20335</td>\n",
       "      <td>4.726973</td>\n",
       "      <td>4.706811</td>\n",
       "      <td>4.638997</td>\n",
       "      <td>4.793951</td>\n",
       "      <td>4.728940</td>\n",
       "    </tr>\n",
       "    <tr>\n",
       "      <th>3</th>\n",
       "      <td>애슐리 전신거울 3colors</td>\n",
       "      <td>14545</td>\n",
       "      <td>4.644813</td>\n",
       "      <td>4.710416</td>\n",
       "      <td>4.447370</td>\n",
       "      <td>4.779306</td>\n",
       "      <td>4.597044</td>\n",
       "    </tr>\n",
       "    <tr>\n",
       "      <th>4</th>\n",
       "      <td>집순이 슬리브 옥스포드 삼각 등쿠션 (솜포함, 2size / 6color)</td>\n",
       "      <td>14491</td>\n",
       "      <td>4.516797</td>\n",
       "      <td>4.386999</td>\n",
       "      <td>4.509558</td>\n",
       "      <td>4.549237</td>\n",
       "      <td>4.568491</td>\n",
       "    </tr>\n",
       "    <tr>\n",
       "      <th>5</th>\n",
       "      <td>소프트 모던 러그/카페트 4colors</td>\n",
       "      <td>14169</td>\n",
       "      <td>4.606048</td>\n",
       "      <td>4.625732</td>\n",
       "      <td>4.535112</td>\n",
       "      <td>4.552544</td>\n",
       "      <td>4.668219</td>\n",
       "    </tr>\n",
       "    <tr>\n",
       "      <th>6</th>\n",
       "      <td>순수 원목 선반 신발장 2단</td>\n",
       "      <td>11407</td>\n",
       "      <td>4.578206</td>\n",
       "      <td>4.681599</td>\n",
       "      <td>4.280617</td>\n",
       "      <td>4.626107</td>\n",
       "      <td>4.673709</td>\n",
       "    </tr>\n",
       "    <tr>\n",
       "      <th>7</th>\n",
       "      <td>헤링본 사이잘룩 라탄 러그 카페트 4colors 4size</td>\n",
       "      <td>9523</td>\n",
       "      <td>4.676289</td>\n",
       "      <td>4.640554</td>\n",
       "      <td>4.675417</td>\n",
       "      <td>4.653996</td>\n",
       "      <td>4.694634</td>\n",
       "    </tr>\n",
       "    <tr>\n",
       "      <th>8</th>\n",
       "      <td>BRUG 스탠드 행거 3colors</td>\n",
       "      <td>8957</td>\n",
       "      <td>4.582505</td>\n",
       "      <td>4.674780</td>\n",
       "      <td>4.320866</td>\n",
       "      <td>4.641286</td>\n",
       "      <td>4.646645</td>\n",
       "    </tr>\n",
       "    <tr>\n",
       "      <th>9</th>\n",
       "      <td>가벽인테리어 스트라이프 파티션 4size 5colors(리뷰이벤트)</td>\n",
       "      <td>6457</td>\n",
       "      <td>4.541242</td>\n",
       "      <td>4.229209</td>\n",
       "      <td>4.527644</td>\n",
       "      <td>4.750658</td>\n",
       "      <td>4.595942</td>\n",
       "    </tr>\n",
       "  </tbody>\n",
       "</table>\n",
       "</div>"
      ],
      "text/plain": [
       "                                         상품명    리뷰수      별점평균       내구성  \\\n",
       "0                       선데이 러그 7size 4colors  33619  4.684907  4.696303   \n",
       "1                    순수원목 선반장 4colors (가로2단)  29225  4.625530  4.702036   \n",
       "2                        오로라 단스탠드(전구 증정 이벤트)  20335  4.726973  4.706811   \n",
       "3                           애슐리 전신거울 3colors  14545  4.644813  4.710416   \n",
       "4  집순이 슬리브 옥스포드 삼각 등쿠션 (솜포함, 2size / 6color)  14491  4.516797  4.386999   \n",
       "5                      소프트 모던 러그/카페트 4colors  14169  4.606048  4.625732   \n",
       "6                            순수 원목 선반 신발장 2단  11407  4.578206  4.681599   \n",
       "7           헤링본 사이잘룩 라탄 러그 카페트 4colors 4size   9523  4.676289  4.640554   \n",
       "8                        BRUG 스탠드 행거 3colors   8957  4.582505  4.674780   \n",
       "9      가벽인테리어 스트라이프 파티션 4size 5colors(리뷰이벤트)   6457  4.541242  4.229209   \n",
       "\n",
       "       가격.1       디자인        배송  \n",
       "0  4.635147  4.652399  4.717213  \n",
       "1  4.472643  4.720890  4.561027  \n",
       "2  4.638997  4.793951  4.728940  \n",
       "3  4.447370  4.779306  4.597044  \n",
       "4  4.509558  4.549237  4.568491  \n",
       "5  4.535112  4.552544  4.668219  \n",
       "6  4.280617  4.626107  4.673709  \n",
       "7  4.675417  4.653996  4.694634  \n",
       "8  4.320866  4.641286  4.646645  \n",
       "9  4.527644  4.750658  4.595942  "
      ]
     },
     "execution_count": 215,
     "metadata": {},
     "output_type": "execute_result"
    }
   ],
   "source": [
    "n_review = []\n",
    "rating = []\n",
    "dura = []\n",
    "pricing = []\n",
    "ship = []\n",
    "design = []\n",
    "# 상품명별 총 별점, 내구성, 가격.1, 배송, 디자인 요소 평균내기\n",
    "\n",
    "for pname in pnames:\n",
    "    rating.append(df[df['상품명'] == pname]['별점'].mean())\n",
    "    dura.append(df[df['상품명'] == pname]['내구성'].mean())\n",
    "    pricing.append(df[df['상품명'] == pname]['가격.1'].mean())\n",
    "    design.append(df[df['상품명'] == pname]['디자인'].mean())\n",
    "    ship.append(df[df['상품명'] == pname]['배송'].mean())\n",
    "\n",
    "df_pre['별점평균'] = rating\n",
    "df_pre['내구성'] = dura\n",
    "df_pre['가격.1'] = pricing\n",
    "df_pre['디자인'] = design\n",
    "df_pre['배송'] = ship\n",
    "\n",
    "df_pre.head(10)"
   ]
  },
  {
   "cell_type": "code",
   "execution_count": 216,
   "id": "based-provider",
   "metadata": {},
   "outputs": [],
   "source": [
    "# excel파일로 내보내기\n",
    "# df_pre.to_excel(\"2차통합(테마포함)_상품별_상세별점데이터.xlsx\")"
   ]
  },
  {
   "cell_type": "code",
   "execution_count": 217,
   "id": "strong-petroleum",
   "metadata": {},
   "outputs": [
    {
     "data": {
      "text/plain": [
       "(3650, 7)"
      ]
     },
     "execution_count": 217,
     "metadata": {},
     "output_type": "execute_result"
    }
   ],
   "source": [
    "df_pre.shape"
   ]
  },
  {
   "cell_type": "code",
   "execution_count": null,
   "id": "danish-ideal",
   "metadata": {},
   "outputs": [],
   "source": []
  },
  {
   "cell_type": "code",
   "execution_count": null,
   "id": "matched-cosmetic",
   "metadata": {},
   "outputs": [],
   "source": []
  },
  {
   "cell_type": "markdown",
   "id": "growing-skating",
   "metadata": {},
   "source": [
    "# 앞으로 해야할 작업\n",
    "- 한 유저가 같은 아이템에 대해 여러 번 리뷰를 올렸다면 별점/내구성/가격.1/디자인/배송/좋아요 평균내기"
   ]
  },
  {
   "cell_type": "code",
   "execution_count": 270,
   "id": "mounted-religious",
   "metadata": {},
   "outputs": [],
   "source": [
    "df_pre.to_csv(\"2차통합_상품별정렬.csv\")"
   ]
  }
 ],
 "metadata": {
  "kernelspec": {
   "display_name": "han",
   "language": "python",
   "name": "han"
  },
  "language_info": {
   "codemirror_mode": {
    "name": "ipython",
    "version": 3
   },
   "file_extension": ".py",
   "mimetype": "text/x-python",
   "name": "python",
   "nbconvert_exporter": "python",
   "pygments_lexer": "ipython3",
   "version": "3.8.5"
  }
 },
 "nbformat": 4,
 "nbformat_minor": 5
}
