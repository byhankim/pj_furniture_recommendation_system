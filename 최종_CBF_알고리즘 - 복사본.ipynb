{
 "cells": [
  {
   "cell_type": "code",
   "execution_count": 21,
   "metadata": {},
   "outputs": [],
   "source": [
    "import pandas as pd\n",
    "import numpy as np\n",
    "import warnings; warnings.filterwarnings('ignore')\n",
    "from sklearn.feature_extraction.text import CountVectorizer\n",
    "from ast import literal_eval\n",
    "from sklearn.metrics.pairwise import cosine_similarity"
   ]
  },
  {
   "cell_type": "markdown",
   "metadata": {},
   "source": [
    "# 실행"
   ]
  },
  {
   "cell_type": "code",
   "execution_count": 84,
   "metadata": {
    "scrolled": false
   },
   "outputs": [
    {
     "name": "stdout",
     "output_type": "stream",
     "text": [
      "검색어를 입력하시오: Romantic 러그\n",
      "중요한 특성의 순위를 매기시오: 디자인 가격 배송 내구성\n"
     ]
    },
    {
     "data": {
      "text/html": [
       "<div>\n",
       "<style scoped>\n",
       "    .dataframe tbody tr th:only-of-type {\n",
       "        vertical-align: middle;\n",
       "    }\n",
       "\n",
       "    .dataframe tbody tr th {\n",
       "        vertical-align: top;\n",
       "    }\n",
       "\n",
       "    .dataframe thead th {\n",
       "        text-align: right;\n",
       "    }\n",
       "</style>\n",
       "<table border=\"1\" class=\"dataframe\">\n",
       "  <thead>\n",
       "    <tr style=\"text-align: right;\">\n",
       "      <th></th>\n",
       "      <th>product_name</th>\n",
       "      <th>product_price</th>\n",
       "      <th>Product_Url</th>\n",
       "      <th>contents</th>\n",
       "      <th>ch_score</th>\n",
       "      <th>weighted_vote</th>\n",
       "    </tr>\n",
       "  </thead>\n",
       "  <tbody>\n",
       "    <tr>\n",
       "      <th>544</th>\n",
       "      <td>빈티지그린 로즈부케 드로잉 원형러그</td>\n",
       "      <td>83900</td>\n",
       "      <td>https://ohou.se/productions/517743/selling</td>\n",
       "      <td>[Romantic, 카페트, 러그, 러그]</td>\n",
       "      <td>4.750000</td>\n",
       "      <td>4.608768</td>\n",
       "    </tr>\n",
       "    <tr>\n",
       "      <th>693</th>\n",
       "      <td>심플 원형 러그 사계절 단모 극세사 워셔블 카페트 4colors 3size</td>\n",
       "      <td>17900</td>\n",
       "      <td>https://ohou.se/productions/496158/selling</td>\n",
       "      <td>[Romantic, 카페트, 러그, 러그]</td>\n",
       "      <td>4.697279</td>\n",
       "      <td>4.670166</td>\n",
       "    </tr>\n",
       "    <tr>\n",
       "      <th>871</th>\n",
       "      <td>로코코 플로랄 드로잉 원형러그</td>\n",
       "      <td>65900</td>\n",
       "      <td>https://ohou.se/productions/229792/selling</td>\n",
       "      <td>[Romantic, 카페트, 러그, 러그]</td>\n",
       "      <td>4.692179</td>\n",
       "      <td>4.628153</td>\n",
       "    </tr>\n",
       "    <tr>\n",
       "      <th>614</th>\n",
       "      <td>터치미 극세사 거실 러그 사계절 먼지없는 단모 카페트 4size 4colors</td>\n",
       "      <td>16800</td>\n",
       "      <td>https://ohou.se/productions/489858/selling</td>\n",
       "      <td>[Romantic, 카페트, 러그, 러그]</td>\n",
       "      <td>4.580000</td>\n",
       "      <td>4.590708</td>\n",
       "    </tr>\n",
       "    <tr>\n",
       "      <th>857</th>\n",
       "      <td>파렛트 모던 디자인 극세사 원형 러그 2size</td>\n",
       "      <td>34900</td>\n",
       "      <td>https://ohou.se/productions/279033/selling</td>\n",
       "      <td>[Romantic, 카페트, 러그, 러그]</td>\n",
       "      <td>4.567857</td>\n",
       "      <td>4.575663</td>\n",
       "    </tr>\n",
       "  </tbody>\n",
       "</table>\n",
       "</div>"
      ],
      "text/plain": [
       "                                    product_name product_price  \\\n",
       "544                          빈티지그린 로즈부케 드로잉 원형러그         83900   \n",
       "693    심플 원형 러그 사계절 단모 극세사 워셔블 카페트 4colors 3size         17900   \n",
       "871                             로코코 플로랄 드로잉 원형러그         65900   \n",
       "614  터치미 극세사 거실 러그 사계절 먼지없는 단모 카페트 4size 4colors         16800   \n",
       "857                   파렛트 모던 디자인 극세사 원형 러그 2size         34900   \n",
       "\n",
       "                                    Product_Url                 contents  \\\n",
       "544  https://ohou.se/productions/517743/selling  [Romantic, 카페트, 러그, 러그]   \n",
       "693  https://ohou.se/productions/496158/selling  [Romantic, 카페트, 러그, 러그]   \n",
       "871  https://ohou.se/productions/229792/selling  [Romantic, 카페트, 러그, 러그]   \n",
       "614  https://ohou.se/productions/489858/selling  [Romantic, 카페트, 러그, 러그]   \n",
       "857  https://ohou.se/productions/279033/selling  [Romantic, 카페트, 러그, 러그]   \n",
       "\n",
       "     ch_score  weighted_vote  \n",
       "544  4.750000       4.608768  \n",
       "693  4.697279       4.670166  \n",
       "871  4.692179       4.628153  \n",
       "614  4.580000       4.590708  \n",
       "857  4.567857       4.575663  "
      ]
     },
     "execution_count": 84,
     "metadata": {},
     "output_type": "execute_result"
    }
   ],
   "source": [
    "find_sim_movie_ver1(products_df,content_sim(search_df(products_df)),7).sort_values(by=[\"ch_score\",\"weighted_vote\"], ascending=False).iloc[:,[1,2,3,23,24,22]]"
   ]
  },
  {
   "cell_type": "markdown",
   "metadata": {},
   "source": [
    "# 1. 데이터셋"
   ]
  },
  {
   "cell_type": "markdown",
   "metadata": {},
   "source": [
    "## 1.1 데이터셋 불러오기"
   ]
  },
  {
   "cell_type": "code",
   "execution_count": 49,
   "metadata": {},
   "outputs": [],
   "source": [
    "products_df = pd.read_excel(\"products_df.xlsx\")"
   ]
  },
  {
   "cell_type": "code",
   "execution_count": 50,
   "metadata": {},
   "outputs": [],
   "source": [
    "products_df[\"contents\"] = products_df['contents'].apply(literal_eval)"
   ]
  },
  {
   "cell_type": "markdown",
   "metadata": {},
   "source": [
    "## 1.2 검색어"
   ]
  },
  {
   "cell_type": "code",
   "execution_count": 82,
   "metadata": {},
   "outputs": [],
   "source": [
    "def search_df(df):\n",
    "    dic = dict()\n",
    "    search = input(\"검색어를 입력하시오: \").split()\n",
    "    character = input(\"중요한 특성의 순위를 매기시오: \").split()\n",
    "    \n",
    "    #특성별 가중치\n",
    "    for x in range(0,len(character)):\n",
    "        dic[x] =character[x]\n",
    "    ch = pd.concat([df[dic[0]]*0.4,df[dic[1]]*0.3,df[dic[2]]*0.2,df[dic[3]]*0.1],axis=1)\n",
    "    ch[\"ch_score\"] = ch[\"내구성\"]+ch[\"가격\"]+ch[\"디자인\"]+ch[\"배송\"]\n",
    "    df[\"ch_score\"] = ch[\"ch_score\"].values\n",
    "    \n",
    "    df.loc[len(df)] = [\"검색어\",\"0\",\"0\",\"0\",\"0\",0,0,0,0,0,0,0,0,0,0,0,0,0,0,0,0,0,0,search,0]\n",
    "    df['contents_literal'] = df['contents'].apply(lambda x : (' ').join(x))\n",
    "    df[\"contents_len\"] = df[\"contents\"].apply(lambda x: len(x))\n",
    "    \n",
    "    return df"
   ]
  },
  {
   "cell_type": "code",
   "execution_count": null,
   "metadata": {},
   "outputs": [],
   "source": []
  },
  {
   "cell_type": "markdown",
   "metadata": {},
   "source": [
    "# 2. CBF"
   ]
  },
  {
   "cell_type": "markdown",
   "metadata": {},
   "source": [
    "## 2.1 콘텐츠 유사도 측정"
   ]
  },
  {
   "cell_type": "code",
   "execution_count": 75,
   "metadata": {},
   "outputs": [],
   "source": [
    "def content_sim(df):\n",
    "    count_vect = CountVectorizer(min_df=0, ngram_range=(1, 2)) \n",
    "    content_mat = count_vect.fit_transform(df['contents_literal'])\n",
    "    content_sim = cosine_similarity(content_mat, content_mat)\n",
    "    content_sim_sorted_ind = content_sim.argsort()[:, ::-1]\n",
    "    \n",
    "    return content_sim_sorted_ind"
   ]
  },
  {
   "cell_type": "markdown",
   "metadata": {},
   "source": [
    "## 2.2 CBF 추천 알고리즘"
   ]
  },
  {
   "cell_type": "code",
   "execution_count": 83,
   "metadata": {},
   "outputs": [],
   "source": [
    "def find_sim_movie_ver1(df, sorted_ind, top_n):\n",
    "    title_index = len(df)-1\n",
    "    similar_indexes = sorted_ind[title_index, :(top_n)]\n",
    "    similar_indexes = similar_indexes.reshape(-1)\n",
    "    similar_indexes = similar_indexes[similar_indexes != title_index]\n",
    "    \n",
    "    return df.iloc[similar_indexes][df.iloc[similar_indexes][\"contents_len\"]>1]"
   ]
  },
  {
   "cell_type": "code",
   "execution_count": null,
   "metadata": {},
   "outputs": [],
   "source": []
  }
 ],
 "metadata": {
  "kernelspec": {
   "display_name": "Python 3",
   "language": "python",
   "name": "python3"
  },
  "language_info": {
   "codemirror_mode": {
    "name": "ipython",
    "version": 3
   },
   "file_extension": ".py",
   "mimetype": "text/x-python",
   "name": "python",
   "nbconvert_exporter": "python",
   "pygments_lexer": "ipython3",
   "version": "3.7.6"
  }
 },
 "nbformat": 4,
 "nbformat_minor": 4
}
